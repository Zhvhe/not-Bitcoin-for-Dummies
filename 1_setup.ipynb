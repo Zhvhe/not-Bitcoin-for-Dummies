{
 "cells": [
  {
   "cell_type": "code",
   "execution_count": null,
   "id": "f4662463",
   "metadata": {},
   "outputs": [],
   "source": [
    "#!/usr/bin/env python3\n",
    "import os, platform, subprocess, sys"
   ]
  },
  {
   "cell_type": "markdown",
   "id": "3fb41606",
   "metadata": {},
   "source": [
    "The goal of this script is to:\n",
    "* Give a walkthrough of how to setup the Bitcoin node with an RPC server\n",
    "* Link Python properly to the RPC server\n",
    "* And test the connection to the Bitcoin node"
   ]
  },
  {
   "cell_type": "markdown",
   "id": "3f540000",
   "metadata": {},
   "source": [
    "Step 1: go to https://bitcoin.org/en/full-node#setup-a-full-node and follow the system appropriate instructions on downloading and setting up a full node\n",
    "\n",
    "Step 2: make sure that the Bitcoin GUI (bitcoin-qt) runs correctly. Paths might need to be set depending on your platform. Libraries may need to be installed as well."
   ]
  },
  {
   "cell_type": "code",
   "execution_count": null,
   "id": "75027046",
   "metadata": {},
   "outputs": [],
   "source": [
    "\"\"\"\n",
    "Finding and importing provided libraries regardless of system and platform type\n",
    "\"\"\"\n",
    "## find and import libraries relative to this file's location (regardless of script or notebook)\n",
    "## platfrom specific naming already handled within the lib directory's __init__ file\n",
    "if '__file__' not in globals():\n",
    "    sys.path.append(os.path.dirname(os.path.abspath('').split('transactions')[0]))\n",
    "else:\n",
    "    sys.path.append(os.path.dirname(__file__).split('transactions')[0])\n",
    "\n",
    "from lib.encoder  import encode_tx, encode_script\n",
    "from lib.helper   import decode_address\n",
    "from lib.hash     import hash160, hash256, sha256\n",
    "from lib.rpc      import RpcSocket\n",
    "from lib.rpcauth  import rpcauth\n",
    "from lib.sign     import sign_tx"
   ]
  },
  {
   "cell_type": "markdown",
   "id": "bc48b1f3",
   "metadata": {},
   "source": [
    "Step 3: setting up the Bitcoin config. For a more in-depth exploration of Bitcoin config options: https://jlopp.github.io/bitcoin-core-config-generator/ is a great resource.\n",
    "For a basic RPC server setup we will be using, please fill in the variables below and copy the output configutation to your Bitcoin config file (which can be found under Settings->Options->Open Configuration File in bitcoin-qt). "
   ]
  },
  {
   "cell_type": "code",
   "execution_count": null,
   "id": "00144c75",
   "metadata": {},
   "outputs": [],
   "source": [
    "'''\n",
    "Step 3.1: choose a dummy (not real money) network/chain to use.\n",
    "          While all this code would work with the mainnet or main chain (where the cash is), we\n",
    "          probably don't want to be demo-ing how to make transactions with real world money. \n",
    "          Choose which flavor of monopoly cash you wish to play with.\n",
    "          \n",
    "          Options are:\n",
    "              'test' - which is the test network (need a 'faucet' to get monopoly money)\n",
    "              'regtest' - which is the regression/private test network (mine your own monopoly money)\n",
    "              'main' - glhf, where the real money is. Also the default if no chain is specified.\n",
    "'''\n",
    "chain = \"test\"\n",
    "if chain not in [\"test\", \"regtest\", \"main\"]:\n",
    "    raise Exception(chain, \"not one of the accepted options of: test, regtest, main\")"
   ]
  },
  {
   "cell_type": "code",
   "execution_count": null,
   "id": "609af9cd",
   "metadata": {},
   "outputs": [],
   "source": [
    "'''\n",
    "Step 3.2: choose where your Bitcoin node is hosted. Yes, this means IP address.\n",
    "          If your node is on the same host as this script, then this step is real easy.\n",
    "          Also, please choose a free port where your node is hosted for the RPC server to listen to.\n",
    "'''\n",
    "nodeIP = \"127.0.0.1\"\n",
    "nodePort = \"18444\"\n",
    "\n",
    "def ping(IP):\n",
    "    param = '-n' if platform.system().lower()=='windows' else '-c'\n",
    "    command = ['ping', param, '1', IP]\n",
    "    return subprocess.call(command) == 0\n",
    "\n",
    "if not ping(nodeIP):\n",
    "    raise Exception(nodeIP, \" is not a reachable address, please try again\")"
   ]
  },
  {
   "cell_type": "code",
   "execution_count": null,
   "id": "f0ff2bf1",
   "metadata": {},
   "outputs": [],
   "source": [
    "'''\n",
    "Step 3.3: choose a username and password\n",
    "'''\n",
    "username = \"user\"\n",
    "password = \"password\"\n",
    "\n",
    "if username == \"\" or password == \"\":\n",
    "    raise Exception(\"username and password may not be empty strings\")"
   ]
  },
  {
   "cell_type": "code",
   "execution_count": null,
   "id": "28919c05",
   "metadata": {},
   "outputs": [],
   "source": [
    "'''\n",
    "Step 3.4: copy and paste in the generated bitcoin.conf file below\n",
    "          After copying in the new configurations, bitcoin-qt will need to be restarted\n",
    "'''\n",
    "\n",
    "print('chain=',chain, sep='')\n",
    "print('daemon=1')\n",
    "\n",
    "print('\\n[',chain,']', sep='')\n",
    "print('server=1')\n",
    "print('rpcbind=',nodeIP, sep='')\n",
    "print('rpcauth=',rpcauth(username, password), sep='')\n",
    "print('rpcport=',nodePort, sep='')\n",
    "print('rpcallowip=0.0.0.0/0')\n"
   ]
  },
  {
   "cell_type": "markdown",
   "id": "13028fa6",
   "metadata": {},
   "source": [
    "Step 4: once Bitcoin is configured correctly, we will need a wallet to stash funds in.\n",
    "        Create a wallet in bitcoin-qt (File->Create Wallet) or use an existing one (File->Open Wallet)\n",
    "        We will also need to have funds added to the wallet."
   ]
  },
  {
   "cell_type": "code",
   "execution_count": null,
   "id": "89498b70",
   "metadata": {},
   "outputs": [],
   "source": [
    "'''\n",
    "Step 4.1: add wallet name to this script\n",
    "'''\n",
    "wallet = \"test2\"\n",
    "\n",
    "if wallet == \"\":\n",
    "    raise Exception(\"wallet name may not be an empty string\")"
   ]
  },
  {
   "cell_type": "code",
   "execution_count": null,
   "id": "44f4cd37",
   "metadata": {},
   "outputs": [],
   "source": [
    "'''\n",
    "Step 4.2: setup our RPC socket using the existing information\n",
    "'''\n",
    "rpc = RpcSocket({ 'wallet': wallet,\n",
    "                  'username': username,\n",
    "                  'password': password,\n",
    "                  'url' : nodeIP,\n",
    "                  'port': nodePort})\n",
    "assert rpc.check()"
   ]
  },
  {
   "cell_type": "code",
   "execution_count": null,
   "id": "889d27f7",
   "metadata": {},
   "outputs": [],
   "source": [
    "'''\n",
    "Step 4.3: fund wallet depending on chain type\n",
    "'''\n",
    "if \"newReceivingAddress\" not in locals() or newReceivingAddress == \"\":\n",
    "    newReceivingAddress = rpc.call(\"getnewaddress\")\n",
    "    \n",
    "if chain == \"test\":\n",
    "    print(\"Use the receiving address\", newReceivingAddress, \"to receive funds from a testnet faucet\")\n",
    "    print(\"Some example faucets are listed at: https://en.bitcoin.it/wiki/Testnet\")\n",
    "    print(\"Once sent, please wait for transaction to be confirmed before proceeding\")\n",
    "elif chain == \"regtest\":\n",
    "    blocks = 10\n",
    "    print(\"Mining\", blocks, \"to\", newReceivingAddress)\n",
    "    rpc.call(\"generatetoaddress\", [blocks, newReceivingAddress])\n",
    "else:\n",
    "    print(\"glhf: you must use real money to get bitcoins to \", newReceivingAddress)"
   ]
  },
  {
   "cell_type": "code",
   "execution_count": null,
   "id": "998f4295",
   "metadata": {},
   "outputs": [],
   "source": [
    "if float(rpc.call(\"getbalance\")) == 0:\n",
    "    raise Exception(\"go back one step\")\n",
    "else:\n",
    "    print(\"You have a balance of:\", rpc.call(\"getbalance\"), \"BTC\")"
   ]
  },
  {
   "cell_type": "markdown",
   "id": "5c6b3f58",
   "metadata": {},
   "source": [
    "Now Bitcoin nodes, RPC server, and wallet should be set up and stocked with funds.\n",
    "You are ready move on to the next script and make a transaction!"
   ]
  },
  {
   "cell_type": "code",
   "execution_count": null,
   "id": "831ce3ed",
   "metadata": {},
   "outputs": [],
   "source": [
    "'''\n",
    "Step ???: for the next example scripts, all the variables you have chosen for your RPC server setup \n",
    "'''\n",
    "print('nodeIP = \\\"',nodeIP,'\\\"', sep='')\n",
    "print('nodePort = \\\"',nodePort,'\\\"', sep='')\n",
    "print('username = \\\"',username,'\\\"', sep='')\n",
    "print('password = \\\"',password,'\\\"', sep='')\n",
    "print('wallet = \\\"',wallet,'\\\"', sep='')"
   ]
  },
  {
   "cell_type": "code",
   "execution_count": null,
   "id": "8c345b00",
   "metadata": {},
   "outputs": [],
   "source": []
  }
 ],
 "metadata": {
  "kernelspec": {
   "display_name": "Python 3 (ipykernel)",
   "language": "python",
   "name": "python3"
  },
  "language_info": {
   "codemirror_mode": {
    "name": "ipython",
    "version": 3
   },
   "file_extension": ".py",
   "mimetype": "text/x-python",
   "name": "python",
   "nbconvert_exporter": "python",
   "pygments_lexer": "ipython3",
   "version": "3.10.8"
  }
 },
 "nbformat": 4,
 "nbformat_minor": 5
}
