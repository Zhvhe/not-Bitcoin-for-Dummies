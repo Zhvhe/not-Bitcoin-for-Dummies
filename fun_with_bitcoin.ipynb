{
 "cells": [
  {
   "cell_type": "code",
   "execution_count": 2,
   "outputs": [],
   "source": [
    "import os, platform, subprocess, sys, requests"
   ],
   "metadata": {
    "collapsed": false
   }
  },
  {
   "cell_type": "code",
   "execution_count": 3,
   "outputs": [],
   "source": [
    "\"\"\"\n",
    "Finding and importing provided libraries regardless of system and platform type\n",
    "\"\"\"\n",
    "## find and import libraries relative to this file's location (regardless of script or notebook)\n",
    "## platfrom specific naming already handled within the lib directory's __init__ file\n",
    "if '__file__' not in globals():\n",
    "    sys.path.append(os.path.dirname(os.path.abspath('').split('transactions')[0]))\n",
    "else:\n",
    "    sys.path.append(os.path.dirname(__file__).split('transactions')[0])\n",
    "\n",
    "from lib.encoder  import encode_tx, encode_script\n",
    "from lib.helper   import decode_address\n",
    "from lib.hash     import hash160, hash256, sha256\n",
    "from lib.rpc      import RpcSocket\n",
    "from lib.rpcauth  import rpcauth\n",
    "from lib.sign     import sign_tx"
   ],
   "metadata": {
    "collapsed": false
   }
  },
  {
   "cell_type": "code",
   "execution_count": 4,
   "outputs": [],
   "source": [
    "nodeIP = \"127.0.0.1\"\n",
    "nodePort = \"18444\"\n",
    "username = \"user\"\n",
    "password = \"password\"\n",
    "wallet = \"DEV-TEST\"\n",
    "\n",
    "rpc = RpcSocket({ 'wallet': wallet,\n",
    "                  'username': username,\n",
    "                  'password': password,\n",
    "                  'url' : nodeIP,\n",
    "                  'port': nodePort})\n"
   ],
   "metadata": {
    "collapsed": false
   }
  },
  {
   "cell_type": "code",
   "execution_count": 5,
   "outputs": [],
   "source": [
    "best_block_hash = rpc.getChain()['bestblockhash']"
   ],
   "metadata": {
    "collapsed": false
   }
  },
  {
   "cell_type": "code",
   "execution_count": 6,
   "outputs": [
    {
     "data": {
      "text/plain": "'0000000000000033b354b134a373cf2ad5b828b099e513648cf1594d95eafcc8'"
     },
     "execution_count": 6,
     "metadata": {},
     "output_type": "execute_result"
    }
   ],
   "source": [
    "best_block_hash"
   ],
   "metadata": {
    "collapsed": false
   }
  },
  {
   "cell_type": "code",
   "execution_count": 7,
   "outputs": [
    {
     "data": {
      "text/plain": "'0000000000000028e7813e571b35aa2d1ff3f31a4e23593d36482c2787924a39'"
     },
     "execution_count": 7,
     "metadata": {},
     "output_type": "execute_result"
    }
   ],
   "source": [
    "rpc.getBlockHeader(best_block_hash)['previousblockhash']"
   ],
   "metadata": {
    "collapsed": false
   }
  },
  {
   "cell_type": "code",
   "execution_count": 8,
   "outputs": [],
   "source": [
    "def getBlockList(count):\n",
    "    if count < 1:\n",
    "        return []\n",
    "    max_block_count = count\n",
    "    cur_block_count = 1\n",
    "    cur_block_hash = rpc.getChain()['bestblockhash']\n",
    "    block_hash_list = [cur_block_hash]\n",
    "\n",
    "    while cur_block_count < max_block_count:\n",
    "        prev_block_hash = rpc.getBlockHeader(cur_block_hash)['previousblockhash']\n",
    "        cur_block_count += 1\n",
    "        block_hash_list.append(prev_block_hash)\n",
    "        cur_block_hash = prev_block_hash\n",
    "\n",
    "    return block_hash_list\n"
   ],
   "metadata": {
    "collapsed": false
   }
  },
  {
   "cell_type": "code",
   "execution_count": 9,
   "outputs": [],
   "source": [
    "block_list = getBlockList(200)"
   ],
   "metadata": {
    "collapsed": false
   }
  },
  {
   "cell_type": "code",
   "execution_count": 10,
   "outputs": [],
   "source": [
    "for block_hash in block_list:\n",
    "    rpc.getBlock(block_hash)\n",
    "\n"
   ],
   "metadata": {
    "collapsed": false
   }
  },
  {
   "cell_type": "code",
   "execution_count": 10,
   "outputs": [],
   "source": [],
   "metadata": {
    "collapsed": false
   }
  }
 ],
 "metadata": {
  "kernelspec": {
   "display_name": "Python 3",
   "language": "python",
   "name": "python3"
  },
  "language_info": {
   "codemirror_mode": {
    "name": "ipython",
    "version": 2
   },
   "file_extension": ".py",
   "mimetype": "text/x-python",
   "name": "python",
   "nbconvert_exporter": "python",
   "pygments_lexer": "ipython2",
   "version": "2.7.6"
  }
 },
 "nbformat": 4,
 "nbformat_minor": 0
}
