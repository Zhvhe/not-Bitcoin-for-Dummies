{
 "cells": [
  {
   "cell_type": "code",
   "execution_count": null,
   "metadata": {},
   "outputs": [],
   "source": [
    "import os, platform, subprocess, sys, requests, json\n",
    "import pandas as pd\n",
    "from pandas import json_normalize\n",
    "import matplotlib.pyplot as plt"
   ]
  },
  {
   "cell_type": "code",
   "execution_count": null,
   "metadata": {},
   "outputs": [],
   "source": [
    "\"\"\"\n",
    "Finding and importing provided libraries regardless of system and platform type\n",
    "\"\"\"\n",
    "## find and import libraries relative to this file's location (regardless of script or notebook)\n",
    "## platfrom specific naming already handled within the lib directory's __init__ file\n",
    "if '__file__' not in globals():\n",
    "    sys.path.append(os.path.dirname(os.path.abspath('').split('transactions')[0]))\n",
    "else:\n",
    "    sys.path.append(os.path.dirname(__file__).split('transactions')[0])\n",
    "\n",
    "from lib.encoder  import encode_tx, encode_script\n",
    "from lib.helper   import decode_address\n",
    "from lib.hash     import hash160, hash256, sha256\n",
    "from lib.rpc      import RpcSocket\n",
    "from lib.rpcauth  import rpcauth\n",
    "from lib.sign     import sign_tx"
   ]
  },
  {
   "cell_type": "code",
   "execution_count": null,
   "metadata": {},
   "outputs": [],
   "source": [
    "'''\n",
    "Step 0.0: setup our RPC socket like we did in the previous example\n",
    "        If you have not done the previous example, now would be the time.\n",
    "        Please copy in the variables you used (located conveniently at the end of the previous example)\n",
    "'''\n",
    "\n",
    "nodeIP = \"127.0.0.1\"\n",
    "nodePort = \"18444\"\n",
    "username = \"user\"\n",
    "password = \"password\"\n",
    "wallet = \"test2\"\n",
    "\n",
    "rpc = RpcSocket({ 'wallet': wallet,\n",
    "                  'username': username,\n",
    "                  'password': password,\n",
    "                  'url' : nodeIP,\n",
    "                  'port': nodePort})\n"
   ]
  },
  {
   "cell_type": "code",
   "execution_count": null,
   "metadata": {},
   "outputs": [],
   "source": [
    "'''\n",
    "Get the latest block\n",
    "'''\n",
    "best_block_hash = rpc.getChain()['bestblockhash']\n",
    "print(best_block_hash)"
   ]
  },
  {
   "cell_type": "code",
   "execution_count": null,
   "metadata": {},
   "outputs": [],
   "source": [
    "'''\n",
    "Get a previous block given an existing block hash (using latest from prior step)\n",
    "'''\n",
    "rpc.getBlockHeader(best_block_hash)['previousblockhash']"
   ]
  },
  {
   "cell_type": "code",
   "execution_count": null,
   "metadata": {},
   "outputs": [],
   "source": [
    "'''\n",
    "Get info on the block\n",
    "'''\n",
    "rpc.getBlock(best_block_hash)"
   ]
  },
  {
   "cell_type": "code",
   "execution_count": null,
   "metadata": {},
   "outputs": [],
   "source": [
    "'''\n",
    "Get stats on the block\n",
    "'''\n",
    "rpc.getBlockStats(best_block_hash)"
   ]
  },
  {
   "cell_type": "code",
   "execution_count": null,
   "metadata": {},
   "outputs": [],
   "source": [
    "'''\n",
    "Function to iterate backwards through 'N' number of latest blocks in the chain\n",
    "'''\n",
    "def getBlockHashList(count):\n",
    "    if count < 1:\n",
    "        return []\n",
    "    chain_height = rpc.getBlockCount()\n",
    "    if chain_height < count:\n",
    "        max_block_count = chain_height\n",
    "    else:\n",
    "        max_block_count = count\n",
    "    cur_block_count = 1\n",
    "    cur_block_hash = rpc.getChain()['bestblockhash']\n",
    "    block_hash_list = [cur_block_hash]\n",
    "\n",
    "    while cur_block_count < max_block_count:\n",
    "        prev_block_hash = rpc.getBlockHeader(cur_block_hash)['previousblockhash']\n",
    "        cur_block_count += 1\n",
    "        block_hash_list.append(prev_block_hash)\n",
    "        cur_block_hash = prev_block_hash\n",
    "\n",
    "    return block_hash_list"
   ]
  },
  {
   "cell_type": "code",
   "execution_count": null,
   "metadata": {},
   "outputs": [],
   "source": [
    "'''\n",
    "Get the hashes the top N blocks\n",
    "'''\n",
    "block_list = getBlockHashList(200)"
   ]
  },
  {
   "cell_type": "code",
   "execution_count": null,
   "metadata": {},
   "outputs": [],
   "source": [
    "'''\n",
    "Converting the block info into a pandas dataframe\n",
    "'''\n",
    "\n",
    "price_base_url = 'https://min-api.cryptocompare.com/data/pricehistorical?fsym=BTC&tsyms=USD&ts='\n",
    "\n",
    "df = pd.DataFrame()\n",
    "for block_hash in block_list:\n",
    "    block = rpc.getBlock(block_hash)\n",
    "    stats = rpc.getBlockStats(block_hash)\n",
    "    price = requests.get(price_base_url + str(block['time'])).json()\n",
    "    block.update(stats)\n",
    "    block.update({'price_usd':price['BTC']['USD']})\n",
    "    df = pd.concat([pd.DataFrame.from_dict(block, orient='index').T, df], axis=0, join='outer', ignore_index=True)\n",
    "df"
   ]
  },
  {
   "cell_type": "code",
   "execution_count": null,
   "outputs": [],
   "source": [
    "'''\n",
    "Convert fees to USD\n",
    "'''\n",
    "\n",
    "df['total_fee_usd'] = df.apply(lambda row: (row.totalfee / 100000000) * row.price_usd, axis=1)\n",
    "df['avg_fee_usd'] = df.apply(lambda row: (row.avgfee / 100000000) * row.price_usd, axis=1)\n",
    "df['max_fee_usd'] = df.apply(lambda row: (row.maxfee / 100000000) * row.price_usd, axis=1)\n",
    "df['min_fee_usd'] = df.apply(lambda row: (row.minfee / 100000000) * row.price_usd, axis=1)\n",
    "df['median_fee_usd'] = df.apply(lambda row: (row.medianfee / 100000000) * row.price_usd, axis=1)\n"
   ],
   "metadata": {
    "collapsed": false
   }
  },
  {
   "cell_type": "code",
   "execution_count": null,
   "metadata": {},
   "outputs": [],
   "source": [
    "print('shape of table is:', df.shape)\n",
    "print(df.columns)"
   ]
  },
  {
   "cell_type": "code",
   "execution_count": null,
   "metadata": {},
   "outputs": [],
   "source": [
    "df.head()"
   ]
  },
  {
   "cell_type": "code",
   "execution_count": null,
   "metadata": {},
   "outputs": [],
   "source": [
    "df.tail()"
   ]
  },
  {
   "cell_type": "code",
   "execution_count": null,
   "metadata": {},
   "outputs": [],
   "source": [
    "def getTransactionIDList(df):\n",
    "    tx_list = df[\"tx\"]\n",
    "    tx_list_flattened = [item for items in tx_list for item in items]\n",
    "    return tx_list_flattened"
   ]
  },
  {
   "cell_type": "code",
   "execution_count": null,
   "metadata": {},
   "outputs": [],
   "source": [
    "getTransactionIDList(df)"
   ]
  },
  {
   "cell_type": "code",
   "execution_count": null,
   "metadata": {},
   "outputs": [],
   "source": [
    "df[\"time\"]"
   ]
  },
  {
   "cell_type": "code",
   "execution_count": null,
   "metadata": {},
   "outputs": [],
   "source": [
    "plt.figure();\n",
    "\n",
    "rel_time = []\n",
    "for idx, x in enumerate(df[\"time\"]):\n",
    "    if idx == 0:\n",
    "        continue\n",
    "    rel_time.append(df[\"time\"][idx] - df[\"time\"][idx-1])\n",
    "\n",
    "rel_time = pd.DataFrame(rel_time)\n",
    "\n",
    "rel_time.plot();\n",
    "plt.xlabel(\"Blocks\")\n",
    "plt.ylabel(\"Time in s\")"
   ]
  },
  {
   "cell_type": "code",
   "execution_count": null,
   "metadata": {},
   "outputs": [],
   "source": [
    "df.plot(y=[\"avgfee\", \"medianfee\"])\n",
    "plt.xlabel(\"Blocks\")\n",
    "plt.ylabel(\"Fee in Sats\")"
   ]
  },
  {
   "cell_type": "code",
   "execution_count": null,
   "outputs": [],
   "source": [
    "df.plot(y=[\"avg_fee_usd\", \"median_fee_usd\"])\n",
    "plt.xlabel(\"Blocks\")\n",
    "plt.ylabel(\"Fee in USD\")"
   ],
   "metadata": {
    "collapsed": false
   }
  },
  {
   "cell_type": "code",
   "execution_count": null,
   "metadata": {},
   "outputs": [],
   "source": [
    "df.plot(y=[\"nTx\"])\n",
    "plt.xlabel(\"Blocks\")\n",
    "plt.ylabel(\"# of Transactions\")"
   ]
  },
  {
   "cell_type": "code",
   "execution_count": null,
   "metadata": {},
   "outputs": [],
   "source": [
    "df.plot(y=[\"total_out\"])\n",
    "plt.xlabel(\"Blocks\")\n",
    "plt.ylabel(\"Total Sats moved\")"
   ]
  },
  {
   "cell_type": "code",
   "execution_count": null,
   "metadata": {},
   "outputs": [],
   "source": [
    "df.plot(y=[\"total_size\"])\n",
    "plt.xlabel(\"Blocks\")\n",
    "plt.ylabel(\"Block Size\")"
   ]
  },
  {
   "cell_type": "code",
   "execution_count": null,
   "metadata": {},
   "outputs": [],
   "source": []
  }
 ],
 "metadata": {
  "kernelspec": {
   "display_name": "Python 3 (ipykernel)",
   "language": "python",
   "name": "python3"
  },
  "language_info": {
   "codemirror_mode": {
    "name": "ipython",
    "version": 3
   },
   "file_extension": ".py",
   "mimetype": "text/x-python",
   "name": "python",
   "nbconvert_exporter": "python",
   "pygments_lexer": "ipython3",
   "version": "3.10.8"
  }
 },
 "nbformat": 4,
 "nbformat_minor": 1
}
