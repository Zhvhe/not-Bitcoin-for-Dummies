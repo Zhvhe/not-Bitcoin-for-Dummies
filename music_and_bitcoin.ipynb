{
 "cells": [
  {
   "cell_type": "code",
   "execution_count": null,
   "metadata": {},
   "outputs": [],
   "source": [
    "import os, platform, subprocess, sys, requests, json\n",
    "import pandas as pd\n",
    "from pandas import json_normalize\n",
    "import matplotlib.pyplot as plt\n",
    "import numpy as np\n",
    "from scipy import signal\n",
    "from IPython.display import Audio"
   ]
  },
  {
   "cell_type": "code",
   "execution_count": null,
   "metadata": {},
   "outputs": [],
   "source": [
    "\"\"\"\n",
    "Finding and importing provided libraries regardless of system and platform type\n",
    "\"\"\"\n",
    "## find and import libraries relative to this file's location (regardless of script or notebook)\n",
    "## platfrom specific naming already handled within the lib directory's __init__ file\n",
    "if '__file__' not in globals():\n",
    "    sys.path.append(os.path.dirname(os.path.abspath('').split('transactions')[0]))\n",
    "else:\n",
    "    sys.path.append(os.path.dirname(__file__).split('transactions')[0])\n",
    "\n",
    "from lib.encoder  import encode_tx, encode_script\n",
    "from lib.helper   import decode_address\n",
    "from lib.hash     import hash160, hash256, sha256\n",
    "from lib.rpc      import RpcSocket\n",
    "from lib.rpcauth  import rpcauth\n",
    "from lib.sign     import sign_tx"
   ]
  },
  {
   "cell_type": "code",
   "execution_count": null,
   "metadata": {},
   "outputs": [],
   "source": [
    "'''\n",
    "Step 0.0: setup our RPC socket like we did in the previous example\n",
    "        If you have not done the previous example, now would be the time.\n",
    "        Please copy in the variables you used (located conveniently at the end of the previous example)\n",
    "'''\n",
    "\n",
    "nodeIP = \"127.0.0.1\"\n",
    "nodePort = \"18444\"\n",
    "username = \"user\"\n",
    "password = \"password\"\n",
    "wallet = \"test2\"\n",
    "\n",
    "rpc = RpcSocket({ 'wallet': wallet,\n",
    "                  'username': username,\n",
    "                  'password': password,\n",
    "                  'url' : nodeIP,\n",
    "                  'port': nodePort})\n"
   ]
  },
  {
   "cell_type": "code",
   "execution_count": null,
   "metadata": {},
   "outputs": [],
   "source": [
    "'''\n",
    "Function to iterate backwards through 'N' number of latest blocks in the chain\n",
    "'''\n",
    "def getBlockHashList(count):\n",
    "    if count < 1:\n",
    "        return []\n",
    "    chain_height = rpc.getBlockCount()\n",
    "    if chain_height < count:\n",
    "        max_block_count = chain_height\n",
    "    else:\n",
    "        max_block_count = count\n",
    "    cur_block_count = 1\n",
    "    cur_block_hash = rpc.getChain()['bestblockhash']\n",
    "    block_hash_list = [cur_block_hash]\n",
    "\n",
    "    while cur_block_count < max_block_count:\n",
    "        prev_block_hash = rpc.getBlockHeader(cur_block_hash)['previousblockhash']\n",
    "        cur_block_count += 1\n",
    "        block_hash_list.append(prev_block_hash)\n",
    "        cur_block_hash = prev_block_hash\n",
    "\n",
    "    return block_hash_list"
   ]
  },
  {
   "cell_type": "code",
   "execution_count": null,
   "metadata": {},
   "outputs": [],
   "source": [
    "'''\n",
    "Get the hashes the top N blocks\n",
    "'''\n",
    "block_list = getBlockHashList(100)"
   ]
  },
  {
   "cell_type": "code",
   "execution_count": null,
   "metadata": {},
   "outputs": [],
   "source": [
    "'''\n",
    "Converting the block info into a pandas dataframe\n",
    "'''\n",
    "df = pd.DataFrame()\n",
    "for block_hash in block_list:\n",
    "    block = rpc.getBlock(block_hash)\n",
    "    stats = rpc.getBlockStats(block_hash)\n",
    "    block.update(stats)\n",
    "    df = pd.concat([pd.DataFrame.from_dict(block, orient='index').T, df], axis=0, join='outer', ignore_index=True)\n",
    "\n",
    "print(df.columns)\n",
    "df"
   ]
  },
  {
   "cell_type": "markdown",
   "metadata": {},
   "source": [
    "Fun with Music"
   ]
  },
  {
   "cell_type": "code",
   "execution_count": null,
   "metadata": {},
   "outputs": [],
   "source": [
    "min_nTx = df[\"nTx\"].min()\n",
    "max_nTx = df[\"nTx\"].max()\n",
    "avg_nTx = round(df[\"nTx\"].mean())\n",
    "med_nTx = df[\"nTx\"].median()\n",
    "std_nTx = round(df[\"nTx\"].std())\n",
    "std2_nTx = round(df[\"nTx\"].std())\n",
    "print(\"Transaction statistics:\\n  min:    \" + str(min_nTx) + \"\\n  max:    \" + str(max_nTx) + \"\\n  avg:    \" + str(avg_nTx) + \"\\n  median: \" + str(med_nTx) + \"\\n  std:    \" + str(std_nTx))"
   ]
  },
  {
   "cell_type": "code",
   "execution_count": null,
   "metadata": {},
   "outputs": [],
   "source": [
    "'''\n",
    "Define note frequencies (using A = 440)\n",
    "'''\n",
    "A4  = 440.00\n",
    "Bb4 = 466.16\n",
    "B4  = 493.88\n",
    "C5  = 523.25\n",
    "Db5 = 554.37\n",
    "D5  = 587.33\n",
    "Eb5 = 622.25\n",
    "E5  = 659.25\n",
    "F5  = 698.46\n",
    "Gb5 = 5739.99\n",
    "G5  = 783.99\n",
    "Ab5 = 830.61"
   ]
  },
  {
   "cell_type": "code",
   "execution_count": null,
   "metadata": {},
   "outputs": [],
   "source": [
    "def note(freq, wave=\"sin\", sec=1, framerate=10000):\n",
    "    t = np.linspace(0, sec, framerate * sec) \n",
    "    if wave == \"sin\":\n",
    "        return np.tan(2 * np.pi * freq * t)\n",
    "    elif wave == \"square\":\n",
    "        return signal.square(2 * np.pi * freq * t)\n",
    "    elif wave == \"triangle\":\n",
    "        return signal.sawtooth(2 * np.pi * freq * t)\n",
    "    else:\n",
    "        return np.cos(2 * np.pi * freq * t)\n",
    "    \n",
    "def play(data, framerate=10000):\n",
    "    return Audio(data, rate=framerate, autoplay=True)"
   ]
  },
  {
   "cell_type": "code",
   "execution_count": null,
   "metadata": {},
   "outputs": [],
   "source": [
    "# play three note [A4 to B4] for 1 second each\n",
    "print(note(0, wave=\"sin\").shape)\n",
    "play(np.concatenate((note(1567.98), note(A4), note(Bb4, wave=\"triangle\"), note(B4, wave=\"square\")), axis=0))"
   ]
  },
  {
   "cell_type": "code",
   "execution_count": null,
   "metadata": {},
   "outputs": [],
   "source": [
    "def getNotes(df, max_nTx, min_ntx, wave=\"sin\"):\n",
    "    _notes = note(0, wave)\n",
    "    raw_range = max_nTx - min_ntx\n",
    "    note_range = round(raw_range/12)\n",
    "    for x in df[\"nTx\"]:\n",
    "        _note = C5\n",
    "        note_type = round((x-min_ntx)/note_range)\n",
    "        match note_type:\n",
    "            case 0:\n",
    "                _note = A4\n",
    "            case 1:\n",
    "                _note = Bb4\n",
    "            case 2:\n",
    "                _note = B4\n",
    "            case 3:\n",
    "                _note = C5\n",
    "            case 4:\n",
    "                _note = Db5\n",
    "            case 5:\n",
    "                _note = D5\n",
    "            case 6:\n",
    "                _note = Eb5\n",
    "            case 7:\n",
    "                _note = E5\n",
    "            case 8:\n",
    "                _note = F5\n",
    "            case 9:\n",
    "                _note = Gb5\n",
    "            case 10:\n",
    "                _note = G5\n",
    "            case 11:\n",
    "                _note = Ab5\n",
    "            case _:\n",
    "                _note = 0\n",
    "        _note = note(_note, wave)\n",
    "        _notes = np.concatenate((_notes, _note), axis=0)\n",
    "        \n",
    "    return _notes"
   ]
  },
  {
   "cell_type": "code",
   "execution_count": null,
   "metadata": {},
   "outputs": [],
   "source": [
    "notes = getNotes(df, max_nTx, min_nTx, \"square\")"
   ]
  },
  {
   "cell_type": "code",
   "execution_count": null,
   "metadata": {},
   "outputs": [],
   "source": [
    "play(notes)"
   ]
  },
  {
   "cell_type": "code",
   "execution_count": null,
   "metadata": {},
   "outputs": [],
   "source": []
  }
 ],
 "metadata": {
  "kernelspec": {
   "display_name": "Python 3 (ipykernel)",
   "language": "python",
   "name": "python3"
  },
  "language_info": {
   "codemirror_mode": {
    "name": "ipython",
    "version": 3
   },
   "file_extension": ".py",
   "mimetype": "text/x-python",
   "name": "python",
   "nbconvert_exporter": "python",
   "pygments_lexer": "ipython3",
   "version": "3.10.8"
  }
 },
 "nbformat": 4,
 "nbformat_minor": 1
}
