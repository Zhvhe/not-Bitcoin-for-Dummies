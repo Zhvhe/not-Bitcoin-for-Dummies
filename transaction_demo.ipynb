{
 "cells": [
  {
   "cell_type": "code",
   "execution_count": null,
   "id": "f4662463",
   "metadata": {},
   "outputs": [],
   "source": [
    "#!/usr/bin/env python3\n",
    "\n",
    "\"\"\"\n",
    "Trying to outline out a basic transaction \n",
    "in a notebook\n",
    "\"\"\""
   ]
  },
  {
   "cell_type": "code",
   "execution_count": null,
   "id": "75027046",
   "metadata": {},
   "outputs": [],
   "source": [
    "\"\"\"\n",
    "basic imports of standard libraries,\n",
    "and finding and importing provided libraries,\n",
    "\"\"\"\n",
    "import os, sys\n",
    "\n",
    "## find and import libraries relative to this file's location (regardless of script or notebook)\n",
    "if '__file__' not in globals():\n",
    "    sys.path.append(os.path.dirname(os.path.abspath('').split('transactions')[0]))\n",
    "    print(os.path.dirname(os.path.abspath('').split('transactions')[0]))\n",
    "else:\n",
    "    sys.path.append(os.path.dirname(__file__).split('transactions')[0])\n",
    "\n",
    "from lib.encoder  import encode_tx, encode_script\n",
    "from lib.helper   import decode_address\n",
    "from lib.hash     import hash160, hash256, sha256\n",
    "from lib.rpc      import RpcSocket\n",
    "from lib.sign     import sign_tx"
   ]
  },
  {
   "cell_type": "code",
   "execution_count": null,
   "id": "889d27f7",
   "metadata": {},
   "outputs": [],
   "source": [
    "## Setup our RPC socket.\n",
    "rpc = RpcSocket({ 'wallet': 'test2' })\n",
    "assert rpc.check()"
   ]
  },
  {
   "cell_type": "code",
   "execution_count": null,
   "id": "61d5483a",
   "metadata": {},
   "outputs": [],
   "source": [
    "## First, we will lookup an existing utxo,\n",
    "## and use that to fund our transaction.\n",
    "utxo = rpc.get_utxo(0)\n",
    "print(utxo)"
   ]
  },
  {
   "cell_type": "code",
   "execution_count": null,
   "id": "033cddf4",
   "metadata": {},
   "outputs": [],
   "source": [
    "## We will also grab a new receiving address,\n",
    "## and lock the funds to this address.\n",
    "recv = rpc.get_recv()\n",
    "print(recv)"
   ]
  },
  {
   "cell_type": "code",
   "execution_count": null,
   "id": "f8c70d92",
   "metadata": {},
   "outputs": [],
   "source": [
    "## Replace this default preimage with your own secret.\n",
    "secret_preimage = 'weareallsatoshi'\n",
    "\n",
    "## Convert the secret to bytes, then hash using hash160 function.\n",
    "secret_bytes = secret_preimage.encode('utf8').hex()\n",
    "secret_hash  = hash160(secret_bytes).hex()"
   ]
  },
  {
   "cell_type": "code",
   "execution_count": null,
   "id": "cd92fb0d-bc67-497f-b229-c49d4aeb6c03",
   "metadata": {},
   "outputs": [],
   "source": [
    "## This is where we specify the version number for the program interpreter. \n",
    "## We'll be using version 0.\n",
    "script_version = 0\n",
    "\n",
    "## Here is the locking script that we will be using. We are going to\n",
    "## require the redeemer to reveral the secret, along with their public\n",
    "## key for the receipt address, and matching signature.\n",
    "script_words = [\n",
    "    'OP_HASH160', secret_hash, 'OP_EQUALVERIFY', \n",
    "    'OP_DUP', 'OP_HASH160', hash160(recv['pub_key']).hex(), 'OP_EQUALVERIFY', \n",
    "    'OP_CHECKSIG',\n",
    "]"
   ]
  },
  {
   "cell_type": "code",
   "execution_count": null,
   "id": "e8c69dcf-ec95-4270-bb9a-338f89b431cf",
   "metadata": {},
   "outputs": [],
   "source": [
    "## This is the hex-encoded format of the script. We will present this when \n",
    "## we unlock and spend the output. It should match the pre-image used for \n",
    "## making the script hash.\n",
    "redeem_script = encode_script(script_words, prepend_len=False).hex()\n",
    "\n",
    "## We hash the script using sha256, then provide a version number\n",
    "## along with the hash. This will lock the transaction output to \n",
    "## accept only the program script which matches the hash.\n",
    "script_hash = sha256(redeem_script).hex()\n",
    "\n",
    "## Calculate the value of the transaction output, minus fees.\n",
    "locking_tx_value = utxo['value'] - 1000"
   ]
  },
  {
   "cell_type": "code",
   "execution_count": null,
   "id": "44fa2d54",
   "metadata": {},
   "outputs": [],
   "source": [
    "## The initial locking transaction. This spends the utxo from our funding \n",
    "## transaction, and moves the funds to the utxo for our witness program.\n",
    "locking_tx = {\n",
    "    'version': 1,\n",
    "    'vin': [{\n",
    "        'txid': utxo['txid'],\n",
    "        'vout': utxo['vout'],\n",
    "        'script_sig': [],\n",
    "        'sequence': 0xFFFFFFFF\n",
    "    }],\n",
    "    'vout': [{\n",
    "        'value': locking_tx_value,\n",
    "        'script_pubkey': [ script_version, script_hash ]\n",
    "    }],\n",
    "    'locktime': 0\n",
    "}"
   ]
  },
  {
   "cell_type": "code",
   "execution_count": null,
   "id": "03cdc353",
   "metadata": {},
   "outputs": [],
   "source": [
    "## Encode the transaction into raw hex,\n",
    "## and calculate the transaction ID\n",
    "locking_hex  = encode_tx(locking_tx)\n",
    "locking_txid = hash256(bytes.fromhex(locking_hex))[::-1].hex()"
   ]
  },
  {
   "cell_type": "code",
   "execution_count": null,
   "id": "73ed0b5f",
   "metadata": {},
   "outputs": [],
   "source": [
    "## Sign the transaction using our key-pair from the utxo.\n",
    "locking_sig = sign_tx(\n",
    "  locking_tx,               # The transaction.\n",
    "  0,                        # The input being signed.\n",
    "  utxo['value'],            # The value of the utxo being spent.\n",
    "  utxo['pubkey_hash'],\n",
    "  utxo['priv_key']          # The private key to the utxo pubkey hash.\n",
    ")"
   ]
  },
  {
   "cell_type": "code",
   "execution_count": null,
   "id": "6724e81a",
   "metadata": {},
   "outputs": [],
   "source": [
    "## Add the signature and public key to the transaction.\n",
    "locking_tx['vin'][0]['witness'] = [ locking_sig, utxo['pub_key'] ]"
   ]
  },
  {
   "cell_type": "code",
   "execution_count": null,
   "id": "632567a2",
   "metadata": {},
   "outputs": [],
   "source": [
    "print(f'''\n",
    "# Pay-to-Witness-Script-Hash Example\n",
    "\n",
    "Locking Txid:\n",
    "{locking_txid}\n",
    "\n",
    "Redeem Script:\n",
    "{redeem_script}\n",
    "\n",
    "Locking Tx:\n",
    "{encode_tx(locking_tx)}\n",
    "''')"
   ]
  },
  {
   "cell_type": "code",
   "execution_count": null,
   "id": "3013c671",
   "metadata": {},
   "outputs": [],
   "source": [
    "## send it off :D\n",
    "rpc.transact(encode_tx(locking_tx))"
   ]
  },
  {
   "cell_type": "code",
   "execution_count": null,
   "id": "da4e4730",
   "metadata": {},
   "outputs": [],
   "source": [
    "## Bech32 addresses will decode into a script version and pubkey hash.\n",
    "script_version, pubkey_hash = decode_address(recv['address'])"
   ]
  },
  {
   "cell_type": "code",
   "execution_count": null,
   "id": "7475ae2e",
   "metadata": {},
   "outputs": [],
   "source": [
    "## This transaction will redeem the previous utxo by providing the secret \n",
    "## pre-image, plus the public key and signature, plus the witness program. \n",
    "## Once the transaction is confirmed, your wallet software should recognize \n",
    "## this utxo as spendable.\n",
    "redeem_tx = {\n",
    "    'version': 1,\n",
    "    'vin': [{\n",
    "        'txid': locking_txid,\n",
    "        'vout': 0,\n",
    "        'script_sig': [],\n",
    "        'sequence': 0xFFFFFFFF\n",
    "    }],\n",
    "    'vout': [{\n",
    "        'value': locking_tx_value - 1000,\n",
    "        'script_pubkey': [ script_version, pubkey_hash ]\n",
    "    }],\n",
    "    'locktime':0\n",
    "}\n",
    "\n",
    "redeem_sig = sign_tx(\n",
    "  redeem_tx,\n",
    "  0,\n",
    "  locking_tx_value,\n",
    "  redeem_script,\n",
    "  recv['priv_key']\n",
    ")"
   ]
  },
  {
   "cell_type": "code",
   "execution_count": null,
   "id": "d258ac65-00f9-46dd-a1a1-9640fd38edec",
   "metadata": {},
   "outputs": [],
   "source": [
    "redeem_tx['vin'][0]['witness'] = [ redeem_sig, recv['pub_key'], secret_bytes, redeem_script ]\n",
    "\n",
    "print(f'Unlocking Tx:\\n{encode_tx(redeem_tx)}')"
   ]
  },
  {
   "cell_type": "code",
   "execution_count": null,
   "id": "0393c7d8-3966-4f37-a327-ca6a7eafe823",
   "metadata": {},
   "outputs": [],
   "source": [
    "## redeem it\n",
    "rpc.transact(encode_tx(redeem_tx))"
   ]
  }
 ],
 "metadata": {
  "kernelspec": {
   "display_name": "Python 3 (ipykernel)",
   "language": "python",
   "name": "python3"
  },
  "language_info": {
   "codemirror_mode": {
    "name": "ipython",
    "version": 3
   },
   "file_extension": ".py",
   "mimetype": "text/x-python",
   "name": "python",
   "nbconvert_exporter": "python",
   "pygments_lexer": "ipython3",
   "version": "3.10.8"
  }
 },
 "nbformat": 4,
 "nbformat_minor": 5
}
