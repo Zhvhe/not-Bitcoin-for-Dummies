{
 "cells": [
  {
   "cell_type": "code",
   "execution_count": 1,
   "id": "f4662463",
   "metadata": {},
   "outputs": [],
   "source": [
    "#!/usr/bin/env python3\n",
    "import os, platform, subprocess, sys, requests, time"
   ]
  },
  {
   "cell_type": "raw",
   "id": "ba899351",
   "metadata": {},
   "source": [
    "The goal of this script is to:\n",
    "Go step by step through a Pay-to-Witness-Script-Hash Transaction"
   ]
  },
  {
   "cell_type": "code",
   "execution_count": 2,
   "id": "75027046",
   "metadata": {},
   "outputs": [],
   "source": [
    "\"\"\"\n",
    "Finding and importing provided libraries regardless of system and platform type\n",
    "\"\"\"\n",
    "## find and import libraries relative to this file's location (regardless of script or notebook)\n",
    "## platfrom specific naming already handled within the lib directory's __init__ file\n",
    "if '__file__' not in globals():\n",
    "    sys.path.append(os.path.dirname(os.path.abspath('').split('transactions')[0]))\n",
    "else:\n",
    "    sys.path.append(os.path.dirname(__file__).split('transactions')[0])\n",
    "\n",
    "from lib.encoder  import encode_tx, encode_script\n",
    "from lib.helper   import decode_address\n",
    "from lib.hash     import hash160, hash256, sha256\n",
    "from lib.rpc      import RpcSocket\n",
    "from lib.rpcauth  import rpcauth\n",
    "from lib.sign     import sign_tx"
   ]
  },
  {
   "cell_type": "code",
   "execution_count": 3,
   "id": "889d27f7",
   "metadata": {},
   "outputs": [],
   "source": [
    "'''\n",
    "Step 0.0: setup our RPC socket like we did in the previous example\n",
    "        If you have not done the previous example, now would be the time.\n",
    "        Please copy in the variables you used (located conveniently at the end of the previous example)\n",
    "'''\n",
    "\n",
    "nodeIP = \"127.0.0.1\"\n",
    "nodePort = \"18444\"\n",
    "username = \"user\"\n",
    "password = \"password\"\n",
    "wallet = \"test2\"\n",
    "\n",
    "rpc = RpcSocket({ 'wallet': wallet,\n",
    "                  'username': username,\n",
    "                  'password': password,\n",
    "                  'url' : nodeIP,\n",
    "                  'port': nodePort})\n",
    "assert rpc.check()"
   ]
  },
  {
   "cell_type": "code",
   "execution_count": 4,
   "id": "297a139a",
   "metadata": {},
   "outputs": [
    {
     "name": "stdout",
     "output_type": "stream",
     "text": [
      "You have a balance of: 0.02980655 BTC\n"
     ]
    }
   ],
   "source": [
    "'''\n",
    "Step 0.1: make sure you have cash. If you are broke, see previous example on how to get funds\n",
    "'''\n",
    "if float(rpc.call(\"getbalance\")) == 0:\n",
    "    raise Exception(\"get funds OR check if funds are still in a pending (ie. unconfirmed) state\")\n",
    "else:\n",
    "    print(\"You have a balance of:\", rpc.call(\"getbalance\"), \"BTC\")"
   ]
  },
  {
   "cell_type": "code",
   "execution_count": 5,
   "id": "61d5483a",
   "metadata": {},
   "outputs": [
    {
     "name": "stdout",
     "output_type": "stream",
     "text": [
      "{'address': 'tb1qwjkj7jev5y8zegqz34t52ulwm5wsvhtleukcfa', 'priv_key': 'c97b144b8e8e4664bf684ec9ababa745b7f754667b7ac2c0acfd52e22850590d', 'pub_key': '02da7831ee560737900635f4ffc97f2f0ac452ffa4f9525e6c6368f59938a7fdbd', 'pubkey_hash': '74ad2f4b2ca10e2ca0028d574573eedd1d065d7f', 'redeem_script': '1976a91474ad2f4b2ca10e2ca0028d574573eedd1d065d7f88ac', 'txid': '07e555a4400096be80ac7247d26d394ee6a7b733bcd79aab4d90de497d7d4bfc', 'vout': 0, 'value': 2980655}\n"
     ]
    }
   ],
   "source": [
    "'''\n",
    "First, we will lookup an existing utxo, and use that to fund our transaction.\n",
    "'''\n",
    "utxo = rpc.get_utxo(0)\n",
    "print(utxo)"
   ]
  },
  {
   "cell_type": "code",
   "execution_count": 6,
   "id": "033cddf4",
   "metadata": {},
   "outputs": [
    {
     "name": "stdout",
     "output_type": "stream",
     "text": [
      "{'address': 'tb1q90ltvsgaeyxanzz2m9fdeerg9s2mjn709s7ukg', 'priv_key': '361dbd80ad9449a781eb74f334d8ca963c6461814849b0bc83b9811ceb91123f', 'pub_key': '03bf33f1d559708db5c824d8139ca25f3c55d99b6bd20c844d46596226fdf545d9', 'pubkey_hash': '2bfeb6411dc90dd9884ad952dce4682c15b94fcf', 'redeem_script': '1976a9142bfeb6411dc90dd9884ad952dce4682c15b94fcf88ac'}\n"
     ]
    }
   ],
   "source": [
    "## We will also grab a new receiving address,\n",
    "## and lock the funds to this address.\n",
    "recv = rpc.get_recv()\n",
    "print(recv)"
   ]
  },
  {
   "cell_type": "code",
   "execution_count": 7,
   "id": "f8c70d92",
   "metadata": {},
   "outputs": [],
   "source": [
    "## Replace this default preimage with your own secret.\n",
    "secret_preimage = 'weareallsatoshi'\n",
    "\n",
    "## Convert the secret to bytes, then hash using hash160 function.\n",
    "secret_bytes = secret_preimage.encode('utf8').hex()\n",
    "secret_hash  = hash160(secret_bytes).hex()"
   ]
  },
  {
   "cell_type": "code",
   "execution_count": 8,
   "id": "cd92fb0d-bc67-497f-b229-c49d4aeb6c03",
   "metadata": {},
   "outputs": [],
   "source": [
    "## This is where we specify the version number for the program interpreter. \n",
    "## We'll be using version 0.\n",
    "script_version = 0\n",
    "\n",
    "## Here is the locking script that we will be using. We are going to\n",
    "## require the redeemer to reveral the secret, along with their public\n",
    "## key for the receipt address, and matching signature.\n",
    "script_words = [\n",
    "    'OP_HASH160', secret_hash, 'OP_EQUALVERIFY', \n",
    "    'OP_DUP', 'OP_HASH160', hash160(recv['pub_key']).hex(), 'OP_EQUALVERIFY', \n",
    "    'OP_CHECKSIG',\n",
    "]"
   ]
  },
  {
   "cell_type": "code",
   "execution_count": 9,
   "id": "e8c69dcf-ec95-4270-bb9a-338f89b431cf",
   "metadata": {},
   "outputs": [],
   "source": [
    "## This is the hex-encoded format of the script. We will present this when \n",
    "## we unlock and spend the output. It should match the pre-image used for \n",
    "## making the script hash.\n",
    "redeem_script = encode_script(script_words, prepend_len=False).hex()\n",
    "\n",
    "## We hash the script using sha256, then provide a version number\n",
    "## along with the hash. This will lock the transaction output to \n",
    "## accept only the program script which matches the hash.\n",
    "script_hash = sha256(redeem_script).hex()\n",
    "\n",
    "## Calculate the value of the transaction output, minus fees.\n",
    "locking_tx_value = utxo['value'] - 1000"
   ]
  },
  {
   "cell_type": "code",
   "execution_count": 10,
   "id": "44fa2d54",
   "metadata": {},
   "outputs": [],
   "source": [
    "## The initial locking transaction. This spends the utxo from our funding \n",
    "## transaction, and moves the funds to the utxo for our witness program.\n",
    "locking_tx = {\n",
    "    'version': 1,\n",
    "    'vin': [{\n",
    "        'txid': utxo['txid'],\n",
    "        'vout': utxo['vout'],\n",
    "        'script_sig': [],\n",
    "        'sequence': 0xFFFFFFFF\n",
    "    }],\n",
    "    'vout': [{\n",
    "        'value': locking_tx_value,\n",
    "        'script_pubkey': [ script_version, script_hash ]\n",
    "    }],\n",
    "    'locktime': 0\n",
    "}"
   ]
  },
  {
   "cell_type": "code",
   "execution_count": 11,
   "id": "03cdc353",
   "metadata": {},
   "outputs": [],
   "source": [
    "## Encode the transaction into raw hex,\n",
    "## and calculate the transaction ID\n",
    "locking_hex  = encode_tx(locking_tx)\n",
    "locking_txid = hash256(bytes.fromhex(locking_hex))[::-1].hex()"
   ]
  },
  {
   "cell_type": "code",
   "execution_count": 12,
   "id": "73ed0b5f",
   "metadata": {},
   "outputs": [],
   "source": [
    "## Sign the transaction using our key-pair from the utxo.\n",
    "locking_sig = sign_tx(\n",
    "  locking_tx,               # The transaction.\n",
    "  0,                        # The input being signed.\n",
    "  utxo['value'],            # The value of the utxo being spent.\n",
    "  utxo['pubkey_hash'],\n",
    "  utxo['priv_key']          # The private key to the utxo pubkey hash.\n",
    ")"
   ]
  },
  {
   "cell_type": "code",
   "execution_count": 13,
   "id": "6724e81a",
   "metadata": {},
   "outputs": [],
   "source": [
    "## Add the signature and public key to the transaction.\n",
    "locking_tx['vin'][0]['witness'] = [ locking_sig, utxo['pub_key'] ]"
   ]
  },
  {
   "cell_type": "code",
   "execution_count": 14,
   "id": "632567a2",
   "metadata": {},
   "outputs": [
    {
     "name": "stdout",
     "output_type": "stream",
     "text": [
      "\n",
      "# Pay-to-Witness-Script-Hash Example\n",
      "\n",
      "Locking Txid:\n",
      "aceb17b4f47885f8c201206a0feb47f8431c9f31d8207e20fc5010c0f67a4b0b\n",
      "\n",
      "Redeem Script:\n",
      "a91478d574f6f76809749cb351af7e20ae52082e2e378876a9142bfeb6411dc90dd9884ad952dce4682c15b94fcf88ac\n",
      "\n",
      "Locking Tx:\n",
      "01000000000101fc4b7d7d49de904dab9ad7bc33b7a7e64e396dd24772ac80be960040a455e5070000000000ffffffff0147772d00000000002200200165dc58dd14e441cf3079e135797c4ea1192953b4cd57a9d0314e7f2cb8f81d02473044022011df3095d857e54fa61f823aea88e767dbf90637a84b949f1b55e3351388fa8f0220259fe9e49a3db7f24accdb6406480154973853f5611e0f9e537876a205fab864012102da7831ee560737900635f4ffc97f2f0ac452ffa4f9525e6c6368f59938a7fdbd00000000\n",
      "\n"
     ]
    }
   ],
   "source": [
    "print(f'''\n",
    "# Pay-to-Witness-Script-Hash Example\n",
    "\n",
    "Locking Txid:\n",
    "{locking_txid}\n",
    "\n",
    "Redeem Script:\n",
    "{redeem_script}\n",
    "\n",
    "Locking Tx:\n",
    "{encode_tx(locking_tx)}\n",
    "''')"
   ]
  },
  {
   "cell_type": "code",
   "execution_count": 15,
   "id": "3013c671",
   "metadata": {},
   "outputs": [
    {
     "name": "stdout",
     "output_type": "stream",
     "text": [
      "aceb17b4f47885f8c201206a0feb47f8431c9f31d8207e20fc5010c0f67a4b0b\n"
     ]
    }
   ],
   "source": [
    "## send it off :D\n",
    "locking_tx_id = rpc.transact(encode_tx(locking_tx))\n",
    "print(locking_tx_id)"
   ]
  },
  {
   "cell_type": "code",
   "execution_count": 16,
   "id": "da4e4730",
   "metadata": {},
   "outputs": [],
   "source": [
    "## Bech32 addresses will decode into a script version and pubkey hash.\n",
    "script_version, pubkey_hash = decode_address(recv['address'])"
   ]
  },
  {
   "cell_type": "code",
   "execution_count": 17,
   "id": "7475ae2e",
   "metadata": {},
   "outputs": [],
   "source": [
    "## This transaction will redeem the previous utxo by providing the secret \n",
    "## pre-image, plus the public key and signature, plus the witness program. \n",
    "## Once the transaction is confirmed, your wallet software should recognize \n",
    "## this utxo as spendable.\n",
    "redeem_tx = {\n",
    "    'version': 1,\n",
    "    'vin': [{\n",
    "        'txid': locking_txid,\n",
    "        'vout': 0,\n",
    "        'script_sig': [],\n",
    "        'sequence': 0xFFFFFFFF\n",
    "    }],\n",
    "    'vout': [{\n",
    "        'value': locking_tx_value - 1000,\n",
    "        'script_pubkey': [ script_version, pubkey_hash ]\n",
    "    }],\n",
    "    'locktime':0\n",
    "}\n",
    "\n",
    "redeem_sig = sign_tx(\n",
    "  redeem_tx,\n",
    "  0,\n",
    "  locking_tx_value,\n",
    "  redeem_script,\n",
    "  recv['priv_key']\n",
    ")"
   ]
  },
  {
   "cell_type": "code",
   "execution_count": 18,
   "id": "d258ac65-00f9-46dd-a1a1-9640fd38edec",
   "metadata": {},
   "outputs": [
    {
     "name": "stdout",
     "output_type": "stream",
     "text": [
      "Unlocking Tx:\n",
      "010000000001010b4b7af6c01050fc207e20d8319f1c43f847eb0f6a2001c2f88578f4b417ebac0000000000ffffffff015f732d00000000001600142bfeb6411dc90dd9884ad952dce4682c15b94fcf04483045022100eddf6614990330259823b3443ad806d83158869dd6d876e82835eb1f2aad711a022004978dc709549d19dea33a4455ee21b02f1b60f1b6139a83e35eb56aed45a4df012103bf33f1d559708db5c824d8139ca25f3c55d99b6bd20c844d46596226fdf545d90f7765617265616c6c7361746f73686930a91478d574f6f76809749cb351af7e20ae52082e2e378876a9142bfeb6411dc90dd9884ad952dce4682c15b94fcf88ac00000000\n"
     ]
    }
   ],
   "source": [
    "redeem_tx['vin'][0]['witness'] = [ redeem_sig, recv['pub_key'], secret_bytes, redeem_script ]\n",
    "\n",
    "print(f'Unlocking Tx:\\n{encode_tx(redeem_tx)}')"
   ]
  },
  {
   "cell_type": "code",
   "execution_count": 19,
   "id": "0393c7d8-3966-4f37-a327-ca6a7eafe823",
   "metadata": {},
   "outputs": [
    {
     "name": "stdout",
     "output_type": "stream",
     "text": [
      "41cd82ced4e980551315aca56501fc02e98568d4b6b7d7ae2de32ece9cea280b\n"
     ]
    }
   ],
   "source": [
    "## redeem it\n",
    "redeem_tx_id = rpc.transact(encode_tx(redeem_tx))\n",
    "print(redeem_tx_id)"
   ]
  },
  {
   "cell_type": "markdown",
   "id": "b936b5fb",
   "metadata": {},
   "source": [
    "Bonus: Fun with mempool\n",
    "\n",
    "https://mempool.space/ is a site that you can look up the state of various popular blockchains\n"
   ]
  },
  {
   "cell_type": "code",
   "execution_count": 20,
   "id": "9fa2e4ce",
   "metadata": {},
   "outputs": [
    {
     "name": "stdout",
     "output_type": "stream",
     "text": [
      "https://mempool.space/testnet/tx/07e555a4400096be80ac7247d26d394ee6a7b733bcd79aab4d90de497d7d4bfc\n"
     ]
    }
   ],
   "source": [
    "'''\n",
    "The original utxo that funded the transaction can be found here\n",
    "'''\n",
    "url = \"https://mempool.space/testnet/tx/\" + utxo['txid']\n",
    "print(\"https://mempool.space/testnet/tx/\" + utxo['txid'])"
   ]
  },
  {
   "cell_type": "code",
   "execution_count": 21,
   "id": "ee1fda5d",
   "metadata": {},
   "outputs": [
    {
     "name": "stdout",
     "output_type": "stream",
     "text": [
      "https://mempool.space/testnet/tx/07e555a4400096be80ac7247d26d394ee6a7b733bcd79aab4d90de497d7d4bfc\n"
     ]
    },
    {
     "data": {
      "text/plain": [
       "{'txid': '07e555a4400096be80ac7247d26d394ee6a7b733bcd79aab4d90de497d7d4bfc',\n",
       " 'version': 1,\n",
       " 'locktime': 0,\n",
       " 'vin': [{'txid': '6f0899c18c5ae15120c28e80fe28a5d4353e1e077a4d86862e139ae80e5143e1',\n",
       "   'vout': 0,\n",
       "   'prevout': {'scriptpubkey': '00200e8758dadd874a46942b5cdf921a3948434ba4933bbe083950a76546ccb606f1',\n",
       "    'scriptpubkey_asm': 'OP_0 OP_PUSHBYTES_32 0e8758dadd874a46942b5cdf921a3948434ba4933bbe083950a76546ccb606f1',\n",
       "    'scriptpubkey_type': 'v0_p2wsh',\n",
       "    'scriptpubkey_address': 'tb1qp6r43kkasa9yd9pttn0eyx3efpp5hfyn8wlqsw2s5aj5dn9kqmcscn29mv',\n",
       "    'value': 2981655},\n",
       "   'scriptsig': '',\n",
       "   'scriptsig_asm': '',\n",
       "   'witness': ['3045022100d4e6a38d8eb1409d32153a8ba11fd2f8de74e600191c06bc48b352eae998bda30220764dfde3b07ca5d46966f56fcf9f06f9a4086783e3e6834a7ec2dac2eb0fb35101',\n",
       "    '02da7831ee560737900635f4ffc97f2f0ac452ffa4f9525e6c6368f59938a7fdbd',\n",
       "    '7765617265616c6c7361746f736869',\n",
       "    'a91478d574f6f76809749cb351af7e20ae52082e2e378876a91474ad2f4b2ca10e2ca0028d574573eedd1d065d7f88ac'],\n",
       "   'is_coinbase': False,\n",
       "   'sequence': 4294967295,\n",
       "   'inner_witnessscript_asm': 'OP_HASH160 OP_PUSHBYTES_20 78d574f6f76809749cb351af7e20ae52082e2e37 OP_EQUALVERIFY OP_DUP OP_HASH160 OP_PUSHBYTES_20 74ad2f4b2ca10e2ca0028d574573eedd1d065d7f OP_EQUALVERIFY OP_CHECKSIG'}],\n",
       " 'vout': [{'scriptpubkey': '001474ad2f4b2ca10e2ca0028d574573eedd1d065d7f',\n",
       "   'scriptpubkey_asm': 'OP_0 OP_PUSHBYTES_20 74ad2f4b2ca10e2ca0028d574573eedd1d065d7f',\n",
       "   'scriptpubkey_type': 'v0_p2wpkh',\n",
       "   'scriptpubkey_address': 'tb1qwjkj7jev5y8zegqz34t52ulwm5wsvhtleukcfa',\n",
       "   'value': 2980655}],\n",
       " 'size': 257,\n",
       " 'weight': 503,\n",
       " 'fee': 1000,\n",
       " 'status': {'confirmed': True,\n",
       "  'block_height': 2410549,\n",
       "  'block_hash': '000000000fffd92e16bcfc085724bf90bb1754696da44b929dd3bff584db1704',\n",
       "  'block_time': 1670619190}}"
      ]
     },
     "execution_count": 21,
     "metadata": {},
     "output_type": "execute_result"
    }
   ],
   "source": [
    "'''\n",
    "The original utxo that funded the transaction can be found here\n",
    "We have obtained several fields about this utxo.\n",
    "First, let's find this transaction on testnet mem pool, using its REST api. And print some stats.\n",
    "'''\n",
    "print(\"https://mempool.space/testnet/tx/\" + utxo['txid'])\n",
    "api_url = \"https://mempool.space/testnet/api/tx/\" + utxo['txid']\n",
    "response = requests.get(api_url)\n",
    "response.json()"
   ]
  },
  {
   "cell_type": "code",
   "execution_count": 22,
   "id": "aadab342",
   "metadata": {},
   "outputs": [
    {
     "data": {
      "text/plain": [
       "{'confirmed': True,\n",
       " 'block_height': 2410549,\n",
       " 'block_hash': '000000000fffd92e16bcfc085724bf90bb1754696da44b929dd3bff584db1704',\n",
       " 'block_time': 1670619190}"
      ]
     },
     "execution_count": 22,
     "metadata": {},
     "output_type": "execute_result"
    }
   ],
   "source": [
    "'''\n",
    "The mem pool REST api can also tell us the status of this transaction\n",
    "'''\n",
    "api_url = \"https://mempool.space/testnet/api/tx/\" + utxo['txid'] + \"/status\"\n",
    "response = requests.get(api_url)\n",
    "response.json()"
   ]
  },
  {
   "cell_type": "code",
   "execution_count": 23,
   "id": "d164a15e",
   "metadata": {},
   "outputs": [
    {
     "data": {
      "text/plain": [
       "{'address': 'tb1qwjkj7jev5y8zegqz34t52ulwm5wsvhtleukcfa',\n",
       " 'chain_stats': {'funded_txo_count': 1,\n",
       "  'funded_txo_sum': 2980655,\n",
       "  'spent_txo_count': 0,\n",
       "  'spent_txo_sum': 0,\n",
       "  'tx_count': 1},\n",
       " 'mempool_stats': {'funded_txo_count': 0,\n",
       "  'funded_txo_sum': 0,\n",
       "  'spent_txo_count': 0,\n",
       "  'spent_txo_sum': 0,\n",
       "  'tx_count': 0}}"
      ]
     },
     "execution_count": 23,
     "metadata": {},
     "output_type": "execute_result"
    }
   ],
   "source": [
    "'''\n",
    "Next, let's find the address on testnet mem pool.\n",
    "'''\n",
    "api_url = \"https://mempool.space/testnet/api/address/\" + utxo['address']\n",
    "response = requests.get(api_url)\n",
    "response.json()"
   ]
  },
  {
   "cell_type": "code",
   "execution_count": 24,
   "id": "55fdfdef",
   "metadata": {},
   "outputs": [
    {
     "data": {
      "text/plain": [
       "[{'txid': '07e555a4400096be80ac7247d26d394ee6a7b733bcd79aab4d90de497d7d4bfc',\n",
       "  'version': 1,\n",
       "  'locktime': 0,\n",
       "  'vin': [{'txid': '6f0899c18c5ae15120c28e80fe28a5d4353e1e077a4d86862e139ae80e5143e1',\n",
       "    'vout': 0,\n",
       "    'prevout': {'scriptpubkey': '00200e8758dadd874a46942b5cdf921a3948434ba4933bbe083950a76546ccb606f1',\n",
       "     'scriptpubkey_asm': 'OP_0 OP_PUSHBYTES_32 0e8758dadd874a46942b5cdf921a3948434ba4933bbe083950a76546ccb606f1',\n",
       "     'scriptpubkey_type': 'v0_p2wsh',\n",
       "     'scriptpubkey_address': 'tb1qp6r43kkasa9yd9pttn0eyx3efpp5hfyn8wlqsw2s5aj5dn9kqmcscn29mv',\n",
       "     'value': 2981655},\n",
       "    'scriptsig': '',\n",
       "    'scriptsig_asm': '',\n",
       "    'witness': ['3045022100d4e6a38d8eb1409d32153a8ba11fd2f8de74e600191c06bc48b352eae998bda30220764dfde3b07ca5d46966f56fcf9f06f9a4086783e3e6834a7ec2dac2eb0fb35101',\n",
       "     '02da7831ee560737900635f4ffc97f2f0ac452ffa4f9525e6c6368f59938a7fdbd',\n",
       "     '7765617265616c6c7361746f736869',\n",
       "     'a91478d574f6f76809749cb351af7e20ae52082e2e378876a91474ad2f4b2ca10e2ca0028d574573eedd1d065d7f88ac'],\n",
       "    'is_coinbase': False,\n",
       "    'sequence': 4294967295,\n",
       "    'inner_witnessscript_asm': 'OP_HASH160 OP_PUSHBYTES_20 78d574f6f76809749cb351af7e20ae52082e2e37 OP_EQUALVERIFY OP_DUP OP_HASH160 OP_PUSHBYTES_20 74ad2f4b2ca10e2ca0028d574573eedd1d065d7f OP_EQUALVERIFY OP_CHECKSIG'}],\n",
       "  'vout': [{'scriptpubkey': '001474ad2f4b2ca10e2ca0028d574573eedd1d065d7f',\n",
       "    'scriptpubkey_asm': 'OP_0 OP_PUSHBYTES_20 74ad2f4b2ca10e2ca0028d574573eedd1d065d7f',\n",
       "    'scriptpubkey_type': 'v0_p2wpkh',\n",
       "    'scriptpubkey_address': 'tb1qwjkj7jev5y8zegqz34t52ulwm5wsvhtleukcfa',\n",
       "    'value': 2980655}],\n",
       "  'size': 257,\n",
       "  'weight': 503,\n",
       "  'fee': 1000,\n",
       "  'status': {'confirmed': True,\n",
       "   'block_height': 2410549,\n",
       "   'block_hash': '000000000fffd92e16bcfc085724bf90bb1754696da44b929dd3bff584db1704',\n",
       "   'block_time': 1670619190}}]"
      ]
     },
     "execution_count": 24,
     "metadata": {},
     "output_type": "execute_result"
    }
   ],
   "source": [
    "'''\n",
    "We can also get the transaction history for this address\n",
    "'''\n",
    "api_url = \"https://mempool.space/testnet/api/address/\" + utxo['address'] + '/txs'\n",
    "response = requests.get(api_url)\n",
    "response.json()"
   ]
  },
  {
   "cell_type": "code",
   "execution_count": 25,
   "id": "1d2c8ed9",
   "metadata": {},
   "outputs": [
    {
     "name": "stdout",
     "output_type": "stream",
     "text": [
      "https://mempool.space/testnet/address/tb1q90ltvsgaeyxanzz2m9fdeerg9s2mjn709s7ukg\n"
     ]
    },
    {
     "data": {
      "text/plain": [
       "{'address': 'tb1q90ltvsgaeyxanzz2m9fdeerg9s2mjn709s7ukg',\n",
       " 'chain_stats': {'funded_txo_count': 0,\n",
       "  'funded_txo_sum': 0,\n",
       "  'spent_txo_count': 0,\n",
       "  'spent_txo_sum': 0,\n",
       "  'tx_count': 0},\n",
       " 'mempool_stats': {'funded_txo_count': 0,\n",
       "  'funded_txo_sum': 0,\n",
       "  'spent_txo_count': 0,\n",
       "  'spent_txo_sum': 0,\n",
       "  'tx_count': 0}}"
      ]
     },
     "execution_count": 25,
     "metadata": {},
     "output_type": "execute_result"
    }
   ],
   "source": [
    "'''\n",
    "We can find the recv address on the mem pool as well (sleep to give transaction a chance to propogate!)\n",
    "'''\n",
    "print(\"https://mempool.space/testnet/address/\" + recv['address'])\n",
    "api_url = \"https://mempool.space/testnet/api/address/\" + recv['address']\n",
    "response = requests.get(api_url)\n",
    "response.json()"
   ]
  },
  {
   "cell_type": "code",
   "execution_count": 26,
   "id": "b6ce6b10",
   "metadata": {},
   "outputs": [
    {
     "name": "stdout",
     "output_type": "stream",
     "text": [
      "https://mempool.space/testnet/tx/aceb17b4f47885f8c201206a0feb47f8431c9f31d8207e20fc5010c0f67a4b0b\n"
     ]
    },
    {
     "data": {
      "text/plain": [
       "{'txid': 'aceb17b4f47885f8c201206a0feb47f8431c9f31d8207e20fc5010c0f67a4b0b',\n",
       " 'version': 1,\n",
       " 'locktime': 0,\n",
       " 'vin': [{'txid': '07e555a4400096be80ac7247d26d394ee6a7b733bcd79aab4d90de497d7d4bfc',\n",
       "   'vout': 0,\n",
       "   'prevout': {'scriptpubkey': '001474ad2f4b2ca10e2ca0028d574573eedd1d065d7f',\n",
       "    'scriptpubkey_asm': 'OP_0 OP_PUSHBYTES_20 74ad2f4b2ca10e2ca0028d574573eedd1d065d7f',\n",
       "    'scriptpubkey_type': 'v0_p2wpkh',\n",
       "    'scriptpubkey_address': 'tb1qwjkj7jev5y8zegqz34t52ulwm5wsvhtleukcfa',\n",
       "    'value': 2980655},\n",
       "   'scriptsig': '',\n",
       "   'scriptsig_asm': '',\n",
       "   'witness': ['3044022011df3095d857e54fa61f823aea88e767dbf90637a84b949f1b55e3351388fa8f0220259fe9e49a3db7f24accdb6406480154973853f5611e0f9e537876a205fab86401',\n",
       "    '02da7831ee560737900635f4ffc97f2f0ac452ffa4f9525e6c6368f59938a7fdbd'],\n",
       "   'is_coinbase': False,\n",
       "   'sequence': 4294967295}],\n",
       " 'vout': [{'scriptpubkey': '00200165dc58dd14e441cf3079e135797c4ea1192953b4cd57a9d0314e7f2cb8f81d',\n",
       "   'scriptpubkey_asm': 'OP_0 OP_PUSHBYTES_32 0165dc58dd14e441cf3079e135797c4ea1192953b4cd57a9d0314e7f2cb8f81d',\n",
       "   'scriptpubkey_type': 'v0_p2wsh',\n",
       "   'scriptpubkey_address': 'tb1qq9jackxaznjyrnes08sn27tuf6s3j22nknx402wsx9887t9clqwsm6tptf',\n",
       "   'value': 2979655}],\n",
       " 'size': 203,\n",
       " 'weight': 485,\n",
       " 'fee': 1000,\n",
       " 'status': {'confirmed': False}}"
      ]
     },
     "execution_count": 26,
     "metadata": {},
     "output_type": "execute_result"
    }
   ],
   "source": [
    "'''\n",
    "And information on the locking transaction\n",
    "'''\n",
    "time.sleep(5)\n",
    "print(\"https://mempool.space/testnet/tx/\" + locking_tx_id)\n",
    "api_url = \"https://mempool.space/testnet/api/tx/\" + locking_tx_id\n",
    "response = requests.get(api_url)\n",
    "response.json()"
   ]
  },
  {
   "cell_type": "code",
   "execution_count": 27,
   "id": "7be14fd2",
   "metadata": {},
   "outputs": [
    {
     "data": {
      "text/plain": [
       "{'txid': '41cd82ced4e980551315aca56501fc02e98568d4b6b7d7ae2de32ece9cea280b',\n",
       " 'version': 1,\n",
       " 'locktime': 0,\n",
       " 'vin': [{'txid': 'aceb17b4f47885f8c201206a0feb47f8431c9f31d8207e20fc5010c0f67a4b0b',\n",
       "   'vout': 0,\n",
       "   'prevout': {'scriptpubkey': '00200165dc58dd14e441cf3079e135797c4ea1192953b4cd57a9d0314e7f2cb8f81d',\n",
       "    'scriptpubkey_asm': 'OP_0 OP_PUSHBYTES_32 0165dc58dd14e441cf3079e135797c4ea1192953b4cd57a9d0314e7f2cb8f81d',\n",
       "    'scriptpubkey_type': 'v0_p2wsh',\n",
       "    'scriptpubkey_address': 'tb1qq9jackxaznjyrnes08sn27tuf6s3j22nknx402wsx9887t9clqwsm6tptf',\n",
       "    'value': 2979655},\n",
       "   'scriptsig': '',\n",
       "   'scriptsig_asm': '',\n",
       "   'witness': ['3045022100eddf6614990330259823b3443ad806d83158869dd6d876e82835eb1f2aad711a022004978dc709549d19dea33a4455ee21b02f1b60f1b6139a83e35eb56aed45a4df01',\n",
       "    '03bf33f1d559708db5c824d8139ca25f3c55d99b6bd20c844d46596226fdf545d9',\n",
       "    '7765617265616c6c7361746f736869',\n",
       "    'a91478d574f6f76809749cb351af7e20ae52082e2e378876a9142bfeb6411dc90dd9884ad952dce4682c15b94fcf88ac'],\n",
       "   'is_coinbase': False,\n",
       "   'sequence': 4294967295,\n",
       "   'inner_witnessscript_asm': 'OP_HASH160 OP_PUSHBYTES_20 78d574f6f76809749cb351af7e20ae52082e2e37 OP_EQUALVERIFY OP_DUP OP_HASH160 OP_PUSHBYTES_20 2bfeb6411dc90dd9884ad952dce4682c15b94fcf OP_EQUALVERIFY OP_CHECKSIG'}],\n",
       " 'vout': [{'scriptpubkey': '00142bfeb6411dc90dd9884ad952dce4682c15b94fcf',\n",
       "   'scriptpubkey_asm': 'OP_0 OP_PUSHBYTES_20 2bfeb6411dc90dd9884ad952dce4682c15b94fcf',\n",
       "   'scriptpubkey_type': 'v0_p2wpkh',\n",
       "   'scriptpubkey_address': 'tb1q90ltvsgaeyxanzz2m9fdeerg9s2mjn709s7ukg',\n",
       "   'value': 2978655}],\n",
       " 'size': 257,\n",
       " 'weight': 503,\n",
       " 'fee': 1000,\n",
       " 'status': {'confirmed': False}}"
      ]
     },
     "execution_count": 27,
     "metadata": {},
     "output_type": "execute_result"
    }
   ],
   "source": [
    "'''\n",
    "And redeem transaction\n",
    "''' \n",
    "api_url = \"https://mempool.space/testnet/api/tx/\" + redeem_tx_id\n",
    "response = requests.get(api_url)\n",
    "response.json()"
   ]
  },
  {
   "cell_type": "code",
   "execution_count": 29,
   "id": "28a73be1",
   "metadata": {},
   "outputs": [
    {
     "data": {
      "text/plain": [
       "{'confirmed': False}"
      ]
     },
     "execution_count": 29,
     "metadata": {},
     "output_type": "execute_result"
    }
   ],
   "source": [
    "'''\n",
    "And we can confirm if it has made it into a block or not\n",
    "'''\n",
    "api_transact_url = \"https://mempool.space/testnet/api/tx/\" + redeem_tx_id + \"/status\"\n",
    "response = requests.get(api_transact_url)\n",
    "response.json()"
   ]
  },
  {
   "cell_type": "code",
   "execution_count": null,
   "id": "54ba6378",
   "metadata": {},
   "outputs": [],
   "source": []
  },
  {
   "cell_type": "code",
   "execution_count": null,
   "id": "56943c2b",
   "metadata": {},
   "outputs": [],
   "source": []
  }
 ],
 "metadata": {
  "kernelspec": {
   "display_name": "Python 3 (ipykernel)",
   "language": "python",
   "name": "python3"
  },
  "language_info": {
   "codemirror_mode": {
    "name": "ipython",
    "version": 3
   },
   "file_extension": ".py",
   "mimetype": "text/x-python",
   "name": "python",
   "nbconvert_exporter": "python",
   "pygments_lexer": "ipython3",
   "version": "3.10.8"
  }
 },
 "nbformat": 4,
 "nbformat_minor": 5
}
