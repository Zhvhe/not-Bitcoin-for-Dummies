{
 "cells": [
  {
   "cell_type": "code",
   "execution_count": 20,
   "id": "f4662463",
   "metadata": {},
   "outputs": [],
   "source": [
    "#!/usr/bin/env python3\n",
    "import os, platform, subprocess, sys"
   ]
  },
  {
   "cell_type": "raw",
   "id": "ba899351",
   "metadata": {},
   "source": [
    "The goal of this script is to:\n",
    "Go step by step through a Pay-to-Witness-Script-Hash Transaction"
   ]
  },
  {
   "cell_type": "code",
   "execution_count": 21,
   "id": "75027046",
   "metadata": {},
   "outputs": [],
   "source": [
    "\"\"\"\n",
    "Finding and importing provided libraries regardless of system and platform type\n",
    "\"\"\"\n",
    "## find and import libraries relative to this file's location (regardless of script or notebook)\n",
    "## platfrom specific naming already handled within the lib directory's __init__ file\n",
    "if '__file__' not in globals():\n",
    "    sys.path.append(os.path.dirname(os.path.abspath('').split('transactions')[0]))\n",
    "else:\n",
    "    sys.path.append(os.path.dirname(__file__).split('transactions')[0])\n",
    "\n",
    "from lib.encoder  import encode_tx, encode_script\n",
    "from lib.helper   import decode_address\n",
    "from lib.hash     import hash160, hash256, sha256\n",
    "from lib.rpc      import RpcSocket\n",
    "from lib.rpcauth  import rpcauth\n",
    "from lib.sign     import sign_tx"
   ]
  },
  {
   "cell_type": "code",
   "execution_count": 22,
   "id": "889d27f7",
   "metadata": {},
   "outputs": [],
   "source": [
    "'''\n",
    "Step 0.0: setup our RPC socket like we did in the previous example\n",
    "        If you have not done the previous example, now would be the time.\n",
    "        Please copy in the variables you used (located conveniently at the end of the previous example)\n",
    "'''\n",
    "\n",
    "nodeIP = \"127.0.0.1\"\n",
    "nodePort = \"18444\"\n",
    "username = \"user\"\n",
    "password = \"password\"\n",
    "wallet = \"DEV-TEST\"\n",
    "\n",
    "rpc = RpcSocket({ 'wallet': wallet,\n",
    "                  'username': username,\n",
    "                  'password': password,\n",
    "                  'url' : nodeIP,\n",
    "                  'port': nodePort})\n",
    "assert rpc.check()"
   ]
  },
  {
   "cell_type": "code",
   "execution_count": 23,
   "id": "297a139a",
   "metadata": {},
   "outputs": [
    {
     "name": "stdout",
     "output_type": "stream",
     "text": [
      "You have a balance of: 0.01091089 BTC\n"
     ]
    }
   ],
   "source": [
    "'''\n",
    "Step 0.1: make sure you have cash. If you are broke, see previous example on how to get funds\n",
    "'''\n",
    "if float(rpc.call(\"getbalance\")) == 0:\n",
    "    raise Exception(\"get funds OR check if funds are still in a pending (ie. unconfirmed) state\")\n",
    "else:\n",
    "    print(\"You have a balance of:\", rpc.call(\"getbalance\"), \"BTC\")"
   ]
  },
  {
   "cell_type": "code",
   "execution_count": 24,
   "id": "61d5483a",
   "metadata": {},
   "outputs": [
    {
     "name": "stdout",
     "output_type": "stream",
     "text": [
      "{'address': 'tb1qgrrt46ke9tk5l9xynd6vzh09q2z06qrwyqe8dl', 'priv_key': '3b912b3ddb272d85624514587c971ded7c0641f27c4502659cfe5a10605c03d2', 'pub_key': '03040036ef5dae681b75e236bbf951328bec5aa24d4112e77ade2aa25f2173a409', 'pubkey_hash': '40c6baead92aed4f94c49b74c15de50284fd006e', 'redeem_script': '1976a91440c6baead92aed4f94c49b74c15de50284fd006e88ac', 'txid': '8f37019947a8fe21f160ca104024425383472f361bd18f68ca761fab0de3a256', 'vout': 0, 'value': 6000}\n"
     ]
    }
   ],
   "source": [
    "## First, we will lookup an existing utxo,\n",
    "## and use that to fund our transaction.\n",
    "## Get a utxo for Alice.\n",
    "alice_utxo = rpc.get_utxo(0)\n",
    "print(alice_utxo)"
   ]
  },
  {
   "cell_type": "code",
   "execution_count": 29,
   "id": "033cddf4",
   "metadata": {},
   "outputs": [
    {
     "name": "stdout",
     "output_type": "stream",
     "text": [
      "f5e02b6df07e25ca6b476a9dfadcb906d786696c\n",
      "be65b05a2f53aa25ba01abf7fc59b58284542c4f\n"
     ]
    }
   ],
   "source": [
    "## Get a change address for Alice.\n",
    "alice_change_txout = rpc.get_recv(fmt='base58')\n",
    "alice_pubkey_hash  = decode_address(alice_change_txout['address'])\n",
    "\n",
    "print(alice_pubkey_hash)\n",
    "\n",
    "## Get a payment address for Bob.\n",
    "bob_payment_txout = rpc.get_recv(fmt='base58')\n",
    "bob_pubkey_hash   = decode_address(bob_payment_txout['address'])\n",
    "\n",
    "print(bob_pubkey_hash)"
   ]
  },
  {
   "cell_type": "code",
   "execution_count": 31,
   "outputs": [],
   "source": [
    "## Calculate our output amounts.\n",
    "fee = 1000\n",
    "bob_recv_value = alice_utxo['value'] // 2\n",
    "alice_change_value = alice_utxo['value'] // 2 - fee"
   ],
   "metadata": {
    "collapsed": false
   }
  },
  {
   "cell_type": "code",
   "execution_count": 33,
   "id": "f8c70d92",
   "metadata": {},
   "outputs": [],
   "source": [
    "## The spending transaction.\n",
    "atob_tx = {\n",
    "    'version': 1,\n",
    "    'vin': [{\n",
    "        # We are unlocking the utxo from Alice.\n",
    "        'txid': alice_utxo['txid'],\n",
    "        'vout': alice_utxo['vout'],\n",
    "        'script_sig': [],\n",
    "        'sequence': 0xFFFFFFFF\n",
    "    }],\n",
    "    'vout': [\n",
    "        {\n",
    "            'value': bob_recv_value,\n",
    "            'script_pubkey': ['OP_DUP', 'OP_HASH160', bob_pubkey_hash, 'OP_EQUALVERIFY', 'OP_CHECKSIG']\n",
    "        },\n",
    "        {\n",
    "            'value': alice_change_value,\n",
    "            'script_pubkey': ['OP_DUP', 'OP_HASH160', alice_pubkey_hash, 'OP_EQUALVERIFY', 'OP_CHECKSIG']\n",
    "        }\n",
    "    ],\n",
    "    'locktime': 0\n",
    "}\n"
   ]
  },
  {
   "cell_type": "code",
   "execution_count": 34,
   "id": "cd92fb0d-bc67-497f-b229-c49d4aeb6c03",
   "metadata": {},
   "outputs": [],
   "source": [
    "## Serialize the transaction and calculate the TXID.\n",
    "atob_hex  = encode_tx(atob_tx)\n",
    "atob_txid = hash256(bytes.fromhex(atob_hex))[::-1].hex()"
   ]
  },
  {
   "cell_type": "code",
   "execution_count": 35,
   "id": "e8c69dcf-ec95-4270-bb9a-338f89b431cf",
   "metadata": {},
   "outputs": [],
   "source": [
    "\n",
    "## The redeem script is a basic Pay-to-Pubkey-Hash template.\n",
    "redeem_script = f\"76a914{alice_utxo['pubkey_hash']}88ac\""
   ]
  },
  {
   "cell_type": "code",
   "execution_count": 36,
   "id": "44fa2d54",
   "metadata": {},
   "outputs": [],
   "source": [
    "\n",
    "## We are signing Alice's UTXO using BIP143 standard.\n",
    "alice_signature = sign_tx(\n",
    "    atob_tx,                # The transaction.\n",
    "    0,                      # The input being signed.\n",
    "    alice_utxo['value'],    # The value of the utxo being spent.\n",
    "    redeem_script,          # The redeem script to unlock the utxo.\n",
    "    alice_utxo['priv_key']  # The private key to the utxo pubkey hash.\n",
    ")"
   ]
  },
  {
   "cell_type": "code",
   "execution_count": 37,
   "outputs": [],
   "source": [
    "\n",
    "## Include the arguments needed to unlock the redeem script.\n",
    "atob_tx['vin'][0]['witness'] = [ alice_signature, alice_utxo['pub_key'] ]"
   ],
   "metadata": {
    "collapsed": false
   }
  },
  {
   "cell_type": "code",
   "execution_count": 39,
   "outputs": [
    {
     "name": "stdout",
     "output_type": "stream",
     "text": [
      "\n",
      "## Pay-to-Pubkey-Hash Example ##\n",
      "-- Transaction Id --\n",
      "84da086f5650500ee2d7b02d340800d116aa6b026a8f9d3d171dd2222f29b2bb\n",
      "-- Alice UTXO --\n",
      "     Txid : 8f37019947a8fe21f160ca104024425383472f361bd18f68ca761fab0de3a256\n",
      "     Vout : 0\n",
      "    Value : 6000\n",
      "     Hash : 40c6baead92aed4f94c49b74c15de50284fd006e\n",
      "-- Sending to Bob --\n",
      "  Address : mxsgVy9E4dZ77DiimKfnjRsk3WKDR4vRx1\n",
      "    Coins : 3000\n",
      "-- Change --\n",
      "  Address : n3w2PdeB2Qc5VVS7hYrYxKaVS3GcZy4RYP\n",
      "      Fee : 1000\n",
      "    Coins : 2000\n",
      "-- Hex --\n",
      "0100000000010156a2e30dab1f76ca688fd11b362f47835342244010ca60f121fea8479901378f0000000000ffffffff02b80b0000000000001976a914be65b05a2f53aa25ba01abf7fc59b58284542c4f88acd0070000000000001976a914f5e02b6df07e25ca6b476a9dfadcb906d786696c88ac02483045022100a0ad8694d29a24c66b4a2096c25d99595607a38e50f17a814769466b3ccbf54102205089325fb476579f316f3ddae1a1ea6815e4d567b9ee5cdf2a6128df611a23de012103040036ef5dae681b75e236bbf951328bec5aa24d4112e77ade2aa25f2173a40900000000\n",
      "\n"
     ]
    }
   ],
   "source": [
    "\n",
    "print(f'''\n",
    "## Pay-to-Pubkey-Hash Example ##\n",
    "-- Transaction Id --\n",
    "{atob_txid}\n",
    "-- Alice UTXO --\n",
    "     Txid : {alice_utxo['txid']}\n",
    "     Vout : {alice_utxo['vout']}\n",
    "    Value : {alice_utxo['value']}\n",
    "     Hash : {alice_utxo['pubkey_hash']}\n",
    "-- Sending to Bob --\n",
    "  Address : {bob_payment_txout['address']}\n",
    "    Coins : {bob_recv_value}\n",
    "-- Change --\n",
    "  Address : {alice_change_txout['address']}\n",
    "      Fee : {fee}\n",
    "    Coins : {alice_change_value}\n",
    "-- Hex --\n",
    "{encode_tx(atob_tx)}\n",
    "''')"
   ],
   "metadata": {
    "collapsed": false
   }
  },
  {
   "cell_type": "code",
   "execution_count": 38,
   "outputs": [
    {
     "data": {
      "text/plain": "'84da086f5650500ee2d7b02d340800d116aa6b026a8f9d3d171dd2222f29b2bb'"
     },
     "execution_count": 38,
     "metadata": {},
     "output_type": "execute_result"
    }
   ],
   "source": [
    "rpc.transact(encode_tx(atob_tx))\n"
   ],
   "metadata": {
    "collapsed": false
   }
  },
  {
   "cell_type": "code",
   "execution_count": null,
   "outputs": [],
   "source": [],
   "metadata": {
    "collapsed": false
   }
  }
 ],
 "metadata": {
  "kernelspec": {
   "display_name": "Python 3 (ipykernel)",
   "language": "python",
   "name": "python3"
  },
  "language_info": {
   "codemirror_mode": {
    "name": "ipython",
    "version": 3
   },
   "file_extension": ".py",
   "mimetype": "text/x-python",
   "name": "python",
   "nbconvert_exporter": "python",
   "pygments_lexer": "ipython3",
   "version": "3.10.8"
  }
 },
 "nbformat": 4,
 "nbformat_minor": 5
}
