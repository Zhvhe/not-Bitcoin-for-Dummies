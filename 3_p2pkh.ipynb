{
 "cells": [
  {
   "cell_type": "code",
   "execution_count": null,
   "id": "f4662463",
   "metadata": {},
   "outputs": [],
   "source": [
    "#!/usr/bin/env python3\n",
    "import os, platform, subprocess, sys, requests"
   ]
  },
  {
   "cell_type": "raw",
   "id": "ba899351",
   "metadata": {},
   "source": [
    "The goal of this script is to:\n",
    "Go step by step through a Pay-to-Public-Key Transaction"
   ]
  },
  {
   "cell_type": "code",
   "execution_count": null,
   "id": "75027046",
   "metadata": {},
   "outputs": [],
   "source": [
    "\"\"\"\n",
    "Finding and importing provided libraries regardless of system and platform type\n",
    "\"\"\"\n",
    "## find and import libraries relative to this file's location (regardless of script or notebook)\n",
    "## platfrom specific naming already handled within the lib directory's __init__ file\n",
    "if '__file__' not in globals():\n",
    "    sys.path.append(os.path.dirname(os.path.abspath('').split('transactions')[0]))\n",
    "else:\n",
    "    sys.path.append(os.path.dirname(__file__).split('transactions')[0])\n",
    "\n",
    "from lib.encoder  import encode_tx, encode_script\n",
    "from lib.helper   import decode_address\n",
    "from lib.hash     import hash160, hash256, sha256\n",
    "from lib.rpc      import RpcSocket\n",
    "from lib.rpcauth  import rpcauth\n",
    "from lib.sign     import sign_tx"
   ]
  },
  {
   "cell_type": "code",
   "execution_count": null,
   "id": "889d27f7",
   "metadata": {},
   "outputs": [],
   "source": [
    "'''\n",
    "Step 0.0: setup our RPC socket like we did in the previous example\n",
    "        If you have not done the previous example, now would be the time.\n",
    "        Please copy in the variables you used (located conveniently at the end of the previous example)\n",
    "'''\n",
    "\n",
    "nodeIP = \"127.0.0.1\"\n",
    "nodePort = \"18444\"\n",
    "username = \"user\"\n",
    "password = \"password\"\n",
    "wallet = \"test2\"\n",
    "\n",
    "rpc = RpcSocket({ 'wallet': wallet,\n",
    "                  'username': username,\n",
    "                  'password': password,\n",
    "                  'url' : nodeIP,\n",
    "                  'port': nodePort})\n",
    "assert rpc.check()"
   ]
  },
  {
   "cell_type": "code",
   "execution_count": null,
   "id": "297a139a",
   "metadata": {},
   "outputs": [],
   "source": [
    "'''\n",
    "Step 0.1: make sure you have cash. If you are broke, see previous example on how to get funds\n",
    "'''\n",
    "if float(rpc.call(\"getbalance\")) == 0:\n",
    "    raise Exception(\"get funds OR check if funds are still in a pending (ie. unconfirmed) state\")\n",
    "else:\n",
    "    print(\"You have a balance of:\", rpc.call(\"getbalance\"), \"BTC\")"
   ]
  },
  {
   "cell_type": "code",
   "execution_count": null,
   "id": "61d5483a",
   "metadata": {},
   "outputs": [],
   "source": [
    "## First, we will lookup an existing utxo,\n",
    "## and use that to fund our transaction.\n",
    "## Get a utxo for Alice.\n",
    "alice_utxo = rpc.get_utxo(0)\n",
    "print(alice_utxo)"
   ]
  },
  {
   "cell_type": "code",
   "execution_count": null,
   "id": "033cddf4",
   "metadata": {},
   "outputs": [],
   "source": [
    "## Get a change address for Alice.\n",
    "alice_change_txout = rpc.get_recv(fmt='base58')\n",
    "alice_pubkey_hash  = decode_address(alice_change_txout['address'])"
   ]
  },
  {
   "cell_type": "code",
   "execution_count": null,
   "id": "2770a602",
   "metadata": {},
   "outputs": [],
   "source": [
    "## Get a payment address for Bob.\n",
    "bob_payment_txout = rpc.get_recv(fmt='base58')\n",
    "bob_pubkey_hash   = decode_address(bob_payment_txout['address'])"
   ]
  },
  {
   "cell_type": "code",
   "execution_count": null,
   "id": "2052f843",
   "metadata": {},
   "outputs": [],
   "source": [
    "## Calculate our output amounts.\n",
    "fee = 1000\n",
    "bob_recv_value = alice_utxo['value'] // 2\n",
    "alice_change_value = alice_utxo['value'] // 2 - fee"
   ]
  },
  {
   "cell_type": "code",
   "execution_count": null,
   "id": "f8c70d92",
   "metadata": {},
   "outputs": [],
   "source": [
    "## The spending transaction.\n",
    "atob_tx = {\n",
    "    'version': 1,\n",
    "    'vin': [{\n",
    "        # We are unlocking the utxo from Alice.\n",
    "        'txid': alice_utxo['txid'],\n",
    "        'vout': alice_utxo['vout'],\n",
    "        'script_sig': [],\n",
    "        'sequence': 0xFFFFFFFF\n",
    "    }],\n",
    "    'vout': [\n",
    "        {\n",
    "            'value': bob_recv_value,\n",
    "            'script_pubkey': ['OP_DUP', 'OP_HASH160', bob_pubkey_hash, 'OP_EQUALVERIFY', 'OP_CHECKSIG']\n",
    "        },\n",
    "        {\n",
    "            'value': alice_change_value,\n",
    "            'script_pubkey': ['OP_DUP', 'OP_HASH160', alice_pubkey_hash, 'OP_EQUALVERIFY', 'OP_CHECKSIG']\n",
    "        }\n",
    "    ],\n",
    "    'locktime': 0\n",
    "}\n"
   ]
  },
  {
   "cell_type": "code",
   "execution_count": null,
   "id": "cd92fb0d-bc67-497f-b229-c49d4aeb6c03",
   "metadata": {},
   "outputs": [],
   "source": [
    "## Serialize the transaction and calculate the TXID.\n",
    "atob_hex  = encode_tx(atob_tx)\n",
    "atob_txid = hash256(bytes.fromhex(atob_hex))[::-1].hex()"
   ]
  },
  {
   "cell_type": "code",
   "execution_count": null,
   "id": "e8c69dcf-ec95-4270-bb9a-338f89b431cf",
   "metadata": {},
   "outputs": [],
   "source": [
    "\n",
    "## The redeem script is a basic Pay-to-Pubkey-Hash template.\n",
    "redeem_script = f\"76a914{alice_utxo['pubkey_hash']}88ac\""
   ]
  },
  {
   "cell_type": "code",
   "execution_count": null,
   "id": "44fa2d54",
   "metadata": {},
   "outputs": [],
   "source": [
    "\n",
    "## We are signing Alice's UTXO using BIP143 standard.\n",
    "alice_signature = sign_tx(\n",
    "    atob_tx,                # The transaction.\n",
    "    0,                      # The input being signed.\n",
    "    alice_utxo['value'],    # The value of the utxo being spent.\n",
    "    redeem_script,          # The redeem script to unlock the utxo.\n",
    "    alice_utxo['priv_key']  # The private key to the utxo pubkey hash.\n",
    ")"
   ]
  },
  {
   "cell_type": "code",
   "execution_count": null,
   "id": "c1355412",
   "metadata": {},
   "outputs": [],
   "source": [
    "\n",
    "## Include the arguments needed to unlock the redeem script.\n",
    "atob_tx['vin'][0]['witness'] = [ alice_signature, alice_utxo['pub_key'] ]"
   ]
  },
  {
   "cell_type": "code",
   "execution_count": null,
   "id": "e18f2ecc",
   "metadata": {},
   "outputs": [],
   "source": [
    "\n",
    "print(f'''\n",
    "## Pay-to-Pubkey-Hash Example ##\n",
    "-- Transaction Id --\n",
    "{atob_txid}\n",
    "-- Alice UTXO --\n",
    "     Txid : {alice_utxo['txid']}\n",
    "     Vout : {alice_utxo['vout']}\n",
    "    Value : {alice_utxo['value']}\n",
    "     Hash : {alice_utxo['pubkey_hash']}\n",
    "-- Sending to Bob --\n",
    "  Address : {bob_payment_txout['address']}\n",
    "    Coins : {bob_recv_value}\n",
    "-- Change --\n",
    "  Address : {alice_change_txout['address']}\n",
    "      Fee : {fee}\n",
    "    Coins : {alice_change_value}\n",
    "-- Hex --\n",
    "{encode_tx(atob_tx)}\n",
    "''')"
   ]
  },
  {
   "cell_type": "code",
   "execution_count": null,
   "id": "22e79e8c",
   "metadata": {},
   "outputs": [],
   "source": [
    "tx_id = rpc.transact(encode_tx(atob_tx))\n"
   ]
  },
  {
   "cell_type": "code",
   "execution_count": null,
   "id": "ebe0036e",
   "metadata": {},
   "outputs": [],
   "source": [
    "## We can find this transaction and its status on the mem pool\n",
    "\n",
    "api_url = \"https://mempool.space/testnet/api/tx/\" + tx_id\n",
    "response = requests.get(api_url)\n",
    "response.json()"
   ]
  },
  {
   "cell_type": "code",
   "execution_count": null,
   "id": "241bcb76",
   "metadata": {},
   "outputs": [],
   "source": [
    "api_transact_url = \"https://mempool.space/testnet/api/tx/\" + tx_id + \"/status\"\n",
    "response = requests.get(api_transact_url)\n",
    "response.json()"
   ]
  },
  {
   "cell_type": "code",
   "execution_count": null,
   "id": "75a2371a",
   "metadata": {},
   "outputs": [],
   "source": []
  },
  {
   "cell_type": "code",
   "execution_count": null,
   "id": "2f875a93",
   "metadata": {},
   "outputs": [],
   "source": []
  }
 ],
 "metadata": {
  "kernelspec": {
   "display_name": "Python 3 (ipykernel)",
   "language": "python",
   "name": "python3"
  },
  "language_info": {
   "codemirror_mode": {
    "name": "ipython",
    "version": 3
   },
   "file_extension": ".py",
   "mimetype": "text/x-python",
   "name": "python",
   "nbconvert_exporter": "python",
   "pygments_lexer": "ipython3",
   "version": "3.10.8"
  }
 },
 "nbformat": 4,
 "nbformat_minor": 5
}
